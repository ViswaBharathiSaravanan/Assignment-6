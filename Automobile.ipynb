{
 "cells": [
  {
   "cell_type": "markdown",
   "id": "b659dfa1",
   "metadata": {},
   "source": [
    "<H1>AUTOMOBILE - MULTI LINEAR REGRESSION</H1>"
   ]
  },
  {
   "cell_type": "code",
   "execution_count": 294,
   "id": "7eefc9ac",
   "metadata": {},
   "outputs": [
    {
     "data": {
      "text/html": [
       "<div>\n",
       "<style scoped>\n",
       "    .dataframe tbody tr th:only-of-type {\n",
       "        vertical-align: middle;\n",
       "    }\n",
       "\n",
       "    .dataframe tbody tr th {\n",
       "        vertical-align: top;\n",
       "    }\n",
       "\n",
       "    .dataframe thead th {\n",
       "        text-align: right;\n",
       "    }\n",
       "</style>\n",
       "<table border=\"1\" class=\"dataframe\">\n",
       "  <thead>\n",
       "    <tr style=\"text-align: right;\">\n",
       "      <th></th>\n",
       "      <th>sym</th>\n",
       "      <th>loss</th>\n",
       "      <th>make</th>\n",
       "      <th>fuel</th>\n",
       "      <th>asp</th>\n",
       "      <th>door</th>\n",
       "      <th>body</th>\n",
       "      <th>wheel</th>\n",
       "      <th>location</th>\n",
       "      <th>base</th>\n",
       "      <th>...</th>\n",
       "      <th>engine_size</th>\n",
       "      <th>sys</th>\n",
       "      <th>bore</th>\n",
       "      <th>str</th>\n",
       "      <th>com</th>\n",
       "      <th>hp</th>\n",
       "      <th>rpm</th>\n",
       "      <th>c_mpg</th>\n",
       "      <th>h_mpg</th>\n",
       "      <th>price</th>\n",
       "    </tr>\n",
       "  </thead>\n",
       "  <tbody>\n",
       "    <tr>\n",
       "      <th>0</th>\n",
       "      <td>3</td>\n",
       "      <td>NaN</td>\n",
       "      <td>alfa-romero</td>\n",
       "      <td>gas</td>\n",
       "      <td>std</td>\n",
       "      <td>two</td>\n",
       "      <td>convertible</td>\n",
       "      <td>rwd</td>\n",
       "      <td>front</td>\n",
       "      <td>88.6</td>\n",
       "      <td>...</td>\n",
       "      <td>130</td>\n",
       "      <td>mpfi</td>\n",
       "      <td>3.47</td>\n",
       "      <td>2.68</td>\n",
       "      <td>9.0</td>\n",
       "      <td>111.0</td>\n",
       "      <td>5000.0</td>\n",
       "      <td>21</td>\n",
       "      <td>27</td>\n",
       "      <td>13495.0</td>\n",
       "    </tr>\n",
       "    <tr>\n",
       "      <th>1</th>\n",
       "      <td>3</td>\n",
       "      <td>NaN</td>\n",
       "      <td>alfa-romero</td>\n",
       "      <td>gas</td>\n",
       "      <td>std</td>\n",
       "      <td>two</td>\n",
       "      <td>convertible</td>\n",
       "      <td>rwd</td>\n",
       "      <td>front</td>\n",
       "      <td>88.6</td>\n",
       "      <td>...</td>\n",
       "      <td>130</td>\n",
       "      <td>mpfi</td>\n",
       "      <td>3.47</td>\n",
       "      <td>2.68</td>\n",
       "      <td>9.0</td>\n",
       "      <td>111.0</td>\n",
       "      <td>5000.0</td>\n",
       "      <td>21</td>\n",
       "      <td>27</td>\n",
       "      <td>16500.0</td>\n",
       "    </tr>\n",
       "    <tr>\n",
       "      <th>2</th>\n",
       "      <td>1</td>\n",
       "      <td>NaN</td>\n",
       "      <td>alfa-romero</td>\n",
       "      <td>gas</td>\n",
       "      <td>std</td>\n",
       "      <td>two</td>\n",
       "      <td>hatchback</td>\n",
       "      <td>rwd</td>\n",
       "      <td>front</td>\n",
       "      <td>94.5</td>\n",
       "      <td>...</td>\n",
       "      <td>152</td>\n",
       "      <td>mpfi</td>\n",
       "      <td>2.68</td>\n",
       "      <td>3.47</td>\n",
       "      <td>9.0</td>\n",
       "      <td>154.0</td>\n",
       "      <td>5000.0</td>\n",
       "      <td>19</td>\n",
       "      <td>26</td>\n",
       "      <td>16500.0</td>\n",
       "    </tr>\n",
       "    <tr>\n",
       "      <th>3</th>\n",
       "      <td>2</td>\n",
       "      <td>164.0</td>\n",
       "      <td>audi</td>\n",
       "      <td>gas</td>\n",
       "      <td>std</td>\n",
       "      <td>four</td>\n",
       "      <td>sedan</td>\n",
       "      <td>fwd</td>\n",
       "      <td>front</td>\n",
       "      <td>99.8</td>\n",
       "      <td>...</td>\n",
       "      <td>109</td>\n",
       "      <td>mpfi</td>\n",
       "      <td>3.19</td>\n",
       "      <td>3.40</td>\n",
       "      <td>10.0</td>\n",
       "      <td>102.0</td>\n",
       "      <td>5500.0</td>\n",
       "      <td>24</td>\n",
       "      <td>30</td>\n",
       "      <td>13950.0</td>\n",
       "    </tr>\n",
       "    <tr>\n",
       "      <th>4</th>\n",
       "      <td>2</td>\n",
       "      <td>164.0</td>\n",
       "      <td>audi</td>\n",
       "      <td>gas</td>\n",
       "      <td>std</td>\n",
       "      <td>four</td>\n",
       "      <td>sedan</td>\n",
       "      <td>4wd</td>\n",
       "      <td>front</td>\n",
       "      <td>99.4</td>\n",
       "      <td>...</td>\n",
       "      <td>136</td>\n",
       "      <td>mpfi</td>\n",
       "      <td>3.19</td>\n",
       "      <td>3.40</td>\n",
       "      <td>8.0</td>\n",
       "      <td>115.0</td>\n",
       "      <td>5500.0</td>\n",
       "      <td>18</td>\n",
       "      <td>22</td>\n",
       "      <td>17450.0</td>\n",
       "    </tr>\n",
       "  </tbody>\n",
       "</table>\n",
       "<p>5 rows × 26 columns</p>\n",
       "</div>"
      ],
      "text/plain": [
       "   sym   loss         make fuel  asp  door         body wheel location  base  \\\n",
       "0    3    NaN  alfa-romero  gas  std   two  convertible   rwd    front  88.6   \n",
       "1    3    NaN  alfa-romero  gas  std   two  convertible   rwd    front  88.6   \n",
       "2    1    NaN  alfa-romero  gas  std   two    hatchback   rwd    front  94.5   \n",
       "3    2  164.0         audi  gas  std  four        sedan   fwd    front  99.8   \n",
       "4    2  164.0         audi  gas  std  four        sedan   4wd    front  99.4   \n",
       "\n",
       "   ...  engine_size   sys  bore   str   com     hp     rpm c_mpg  h_mpg  \\\n",
       "0  ...          130  mpfi  3.47  2.68   9.0  111.0  5000.0    21     27   \n",
       "1  ...          130  mpfi  3.47  2.68   9.0  111.0  5000.0    21     27   \n",
       "2  ...          152  mpfi  2.68  3.47   9.0  154.0  5000.0    19     26   \n",
       "3  ...          109  mpfi  3.19  3.40  10.0  102.0  5500.0    24     30   \n",
       "4  ...          136  mpfi  3.19  3.40   8.0  115.0  5500.0    18     22   \n",
       "\n",
       "     price  \n",
       "0  13495.0  \n",
       "1  16500.0  \n",
       "2  16500.0  \n",
       "3  13950.0  \n",
       "4  17450.0  \n",
       "\n",
       "[5 rows x 26 columns]"
      ]
     },
     "execution_count": 294,
     "metadata": {},
     "output_type": "execute_result"
    }
   ],
   "source": [
    "import pandas as pd\n",
    "from scipy import stats\n",
    "import matplotlib.pyplot as plt\n",
    "import seaborn as sns\n",
    "import statsmodels.api as sm\n",
    "columns=['sym','loss','make','fuel','asp','door','body','wheel','location','base','len','wid','ht','c_wt','engine','cyl','engine_size','sys','bore','str','com','hp','rpm','c_mpg','h_mpg','price']\n",
    "a=pd.read_csv(\"https://archive.ics.uci.edu/ml/machine-learning-databases/autos/imports-85.data\",header=None,names=columns,na_values='?')\n",
    "a.head()"
   ]
  },
  {
   "cell_type": "code",
   "execution_count": 295,
   "id": "e1d15aaa",
   "metadata": {},
   "outputs": [
    {
     "data": {
      "text/plain": [
       "(205, 26)"
      ]
     },
     "execution_count": 295,
     "metadata": {},
     "output_type": "execute_result"
    }
   ],
   "source": [
    "a.shape"
   ]
  },
  {
   "cell_type": "code",
   "execution_count": 296,
   "id": "980ef2bf",
   "metadata": {},
   "outputs": [
    {
     "name": "stdout",
     "output_type": "stream",
     "text": [
      "<class 'pandas.core.frame.DataFrame'>\n",
      "RangeIndex: 205 entries, 0 to 204\n",
      "Data columns (total 26 columns):\n",
      " #   Column       Non-Null Count  Dtype  \n",
      "---  ------       --------------  -----  \n",
      " 0   sym          205 non-null    int64  \n",
      " 1   loss         164 non-null    float64\n",
      " 2   make         205 non-null    object \n",
      " 3   fuel         205 non-null    object \n",
      " 4   asp          205 non-null    object \n",
      " 5   door         203 non-null    object \n",
      " 6   body         205 non-null    object \n",
      " 7   wheel        205 non-null    object \n",
      " 8   location     205 non-null    object \n",
      " 9   base         205 non-null    float64\n",
      " 10  len          205 non-null    float64\n",
      " 11  wid          205 non-null    float64\n",
      " 12  ht           205 non-null    float64\n",
      " 13  c_wt         205 non-null    int64  \n",
      " 14  engine       205 non-null    object \n",
      " 15  cyl          205 non-null    object \n",
      " 16  engine_size  205 non-null    int64  \n",
      " 17  sys          205 non-null    object \n",
      " 18  bore         201 non-null    float64\n",
      " 19  str          201 non-null    float64\n",
      " 20  com          205 non-null    float64\n",
      " 21  hp           203 non-null    float64\n",
      " 22  rpm          203 non-null    float64\n",
      " 23  c_mpg        205 non-null    int64  \n",
      " 24  h_mpg        205 non-null    int64  \n",
      " 25  price        201 non-null    float64\n",
      "dtypes: float64(11), int64(5), object(10)\n",
      "memory usage: 41.8+ KB\n"
     ]
    }
   ],
   "source": [
    "a.info()"
   ]
  },
  {
   "cell_type": "code",
   "execution_count": 297,
   "id": "39595b83",
   "metadata": {},
   "outputs": [
    {
     "data": {
      "text/html": [
       "<div>\n",
       "<style scoped>\n",
       "    .dataframe tbody tr th:only-of-type {\n",
       "        vertical-align: middle;\n",
       "    }\n",
       "\n",
       "    .dataframe tbody tr th {\n",
       "        vertical-align: top;\n",
       "    }\n",
       "\n",
       "    .dataframe thead th {\n",
       "        text-align: right;\n",
       "    }\n",
       "</style>\n",
       "<table border=\"1\" class=\"dataframe\">\n",
       "  <thead>\n",
       "    <tr style=\"text-align: right;\">\n",
       "      <th></th>\n",
       "      <th>sym</th>\n",
       "      <th>loss</th>\n",
       "      <th>base</th>\n",
       "      <th>len</th>\n",
       "      <th>wid</th>\n",
       "      <th>ht</th>\n",
       "      <th>c_wt</th>\n",
       "      <th>engine_size</th>\n",
       "      <th>bore</th>\n",
       "      <th>str</th>\n",
       "      <th>com</th>\n",
       "      <th>hp</th>\n",
       "      <th>rpm</th>\n",
       "      <th>c_mpg</th>\n",
       "      <th>h_mpg</th>\n",
       "      <th>price</th>\n",
       "    </tr>\n",
       "  </thead>\n",
       "  <tbody>\n",
       "    <tr>\n",
       "      <th>count</th>\n",
       "      <td>205.000000</td>\n",
       "      <td>164.000000</td>\n",
       "      <td>205.000000</td>\n",
       "      <td>205.000000</td>\n",
       "      <td>205.000000</td>\n",
       "      <td>205.000000</td>\n",
       "      <td>205.000000</td>\n",
       "      <td>205.000000</td>\n",
       "      <td>201.000000</td>\n",
       "      <td>201.000000</td>\n",
       "      <td>205.000000</td>\n",
       "      <td>203.000000</td>\n",
       "      <td>203.000000</td>\n",
       "      <td>205.000000</td>\n",
       "      <td>205.000000</td>\n",
       "      <td>201.000000</td>\n",
       "    </tr>\n",
       "    <tr>\n",
       "      <th>mean</th>\n",
       "      <td>0.834146</td>\n",
       "      <td>122.000000</td>\n",
       "      <td>98.756585</td>\n",
       "      <td>174.049268</td>\n",
       "      <td>65.907805</td>\n",
       "      <td>53.724878</td>\n",
       "      <td>2555.565854</td>\n",
       "      <td>126.907317</td>\n",
       "      <td>3.329751</td>\n",
       "      <td>3.255423</td>\n",
       "      <td>10.142537</td>\n",
       "      <td>104.256158</td>\n",
       "      <td>5125.369458</td>\n",
       "      <td>25.219512</td>\n",
       "      <td>30.751220</td>\n",
       "      <td>13207.129353</td>\n",
       "    </tr>\n",
       "    <tr>\n",
       "      <th>std</th>\n",
       "      <td>1.245307</td>\n",
       "      <td>35.442168</td>\n",
       "      <td>6.021776</td>\n",
       "      <td>12.337289</td>\n",
       "      <td>2.145204</td>\n",
       "      <td>2.443522</td>\n",
       "      <td>520.680204</td>\n",
       "      <td>41.642693</td>\n",
       "      <td>0.273539</td>\n",
       "      <td>0.316717</td>\n",
       "      <td>3.972040</td>\n",
       "      <td>39.714369</td>\n",
       "      <td>479.334560</td>\n",
       "      <td>6.542142</td>\n",
       "      <td>6.886443</td>\n",
       "      <td>7947.066342</td>\n",
       "    </tr>\n",
       "    <tr>\n",
       "      <th>min</th>\n",
       "      <td>-2.000000</td>\n",
       "      <td>65.000000</td>\n",
       "      <td>86.600000</td>\n",
       "      <td>141.100000</td>\n",
       "      <td>60.300000</td>\n",
       "      <td>47.800000</td>\n",
       "      <td>1488.000000</td>\n",
       "      <td>61.000000</td>\n",
       "      <td>2.540000</td>\n",
       "      <td>2.070000</td>\n",
       "      <td>7.000000</td>\n",
       "      <td>48.000000</td>\n",
       "      <td>4150.000000</td>\n",
       "      <td>13.000000</td>\n",
       "      <td>16.000000</td>\n",
       "      <td>5118.000000</td>\n",
       "    </tr>\n",
       "    <tr>\n",
       "      <th>25%</th>\n",
       "      <td>0.000000</td>\n",
       "      <td>94.000000</td>\n",
       "      <td>94.500000</td>\n",
       "      <td>166.300000</td>\n",
       "      <td>64.100000</td>\n",
       "      <td>52.000000</td>\n",
       "      <td>2145.000000</td>\n",
       "      <td>97.000000</td>\n",
       "      <td>3.150000</td>\n",
       "      <td>3.110000</td>\n",
       "      <td>8.600000</td>\n",
       "      <td>70.000000</td>\n",
       "      <td>4800.000000</td>\n",
       "      <td>19.000000</td>\n",
       "      <td>25.000000</td>\n",
       "      <td>7775.000000</td>\n",
       "    </tr>\n",
       "    <tr>\n",
       "      <th>50%</th>\n",
       "      <td>1.000000</td>\n",
       "      <td>115.000000</td>\n",
       "      <td>97.000000</td>\n",
       "      <td>173.200000</td>\n",
       "      <td>65.500000</td>\n",
       "      <td>54.100000</td>\n",
       "      <td>2414.000000</td>\n",
       "      <td>120.000000</td>\n",
       "      <td>3.310000</td>\n",
       "      <td>3.290000</td>\n",
       "      <td>9.000000</td>\n",
       "      <td>95.000000</td>\n",
       "      <td>5200.000000</td>\n",
       "      <td>24.000000</td>\n",
       "      <td>30.000000</td>\n",
       "      <td>10295.000000</td>\n",
       "    </tr>\n",
       "    <tr>\n",
       "      <th>75%</th>\n",
       "      <td>2.000000</td>\n",
       "      <td>150.000000</td>\n",
       "      <td>102.400000</td>\n",
       "      <td>183.100000</td>\n",
       "      <td>66.900000</td>\n",
       "      <td>55.500000</td>\n",
       "      <td>2935.000000</td>\n",
       "      <td>141.000000</td>\n",
       "      <td>3.590000</td>\n",
       "      <td>3.410000</td>\n",
       "      <td>9.400000</td>\n",
       "      <td>116.000000</td>\n",
       "      <td>5500.000000</td>\n",
       "      <td>30.000000</td>\n",
       "      <td>34.000000</td>\n",
       "      <td>16500.000000</td>\n",
       "    </tr>\n",
       "    <tr>\n",
       "      <th>max</th>\n",
       "      <td>3.000000</td>\n",
       "      <td>256.000000</td>\n",
       "      <td>120.900000</td>\n",
       "      <td>208.100000</td>\n",
       "      <td>72.300000</td>\n",
       "      <td>59.800000</td>\n",
       "      <td>4066.000000</td>\n",
       "      <td>326.000000</td>\n",
       "      <td>3.940000</td>\n",
       "      <td>4.170000</td>\n",
       "      <td>23.000000</td>\n",
       "      <td>288.000000</td>\n",
       "      <td>6600.000000</td>\n",
       "      <td>49.000000</td>\n",
       "      <td>54.000000</td>\n",
       "      <td>45400.000000</td>\n",
       "    </tr>\n",
       "  </tbody>\n",
       "</table>\n",
       "</div>"
      ],
      "text/plain": [
       "              sym        loss        base         len         wid          ht  \\\n",
       "count  205.000000  164.000000  205.000000  205.000000  205.000000  205.000000   \n",
       "mean     0.834146  122.000000   98.756585  174.049268   65.907805   53.724878   \n",
       "std      1.245307   35.442168    6.021776   12.337289    2.145204    2.443522   \n",
       "min     -2.000000   65.000000   86.600000  141.100000   60.300000   47.800000   \n",
       "25%      0.000000   94.000000   94.500000  166.300000   64.100000   52.000000   \n",
       "50%      1.000000  115.000000   97.000000  173.200000   65.500000   54.100000   \n",
       "75%      2.000000  150.000000  102.400000  183.100000   66.900000   55.500000   \n",
       "max      3.000000  256.000000  120.900000  208.100000   72.300000   59.800000   \n",
       "\n",
       "              c_wt  engine_size        bore         str         com  \\\n",
       "count   205.000000   205.000000  201.000000  201.000000  205.000000   \n",
       "mean   2555.565854   126.907317    3.329751    3.255423   10.142537   \n",
       "std     520.680204    41.642693    0.273539    0.316717    3.972040   \n",
       "min    1488.000000    61.000000    2.540000    2.070000    7.000000   \n",
       "25%    2145.000000    97.000000    3.150000    3.110000    8.600000   \n",
       "50%    2414.000000   120.000000    3.310000    3.290000    9.000000   \n",
       "75%    2935.000000   141.000000    3.590000    3.410000    9.400000   \n",
       "max    4066.000000   326.000000    3.940000    4.170000   23.000000   \n",
       "\n",
       "               hp          rpm       c_mpg       h_mpg         price  \n",
       "count  203.000000   203.000000  205.000000  205.000000    201.000000  \n",
       "mean   104.256158  5125.369458   25.219512   30.751220  13207.129353  \n",
       "std     39.714369   479.334560    6.542142    6.886443   7947.066342  \n",
       "min     48.000000  4150.000000   13.000000   16.000000   5118.000000  \n",
       "25%     70.000000  4800.000000   19.000000   25.000000   7775.000000  \n",
       "50%     95.000000  5200.000000   24.000000   30.000000  10295.000000  \n",
       "75%    116.000000  5500.000000   30.000000   34.000000  16500.000000  \n",
       "max    288.000000  6600.000000   49.000000   54.000000  45400.000000  "
      ]
     },
     "execution_count": 297,
     "metadata": {},
     "output_type": "execute_result"
    }
   ],
   "source": [
    "a.describe()"
   ]
  },
  {
   "cell_type": "code",
   "execution_count": 298,
   "id": "bf342df0",
   "metadata": {},
   "outputs": [
    {
     "data": {
      "text/html": [
       "<div>\n",
       "<style scoped>\n",
       "    .dataframe tbody tr th:only-of-type {\n",
       "        vertical-align: middle;\n",
       "    }\n",
       "\n",
       "    .dataframe tbody tr th {\n",
       "        vertical-align: top;\n",
       "    }\n",
       "\n",
       "    .dataframe thead th {\n",
       "        text-align: right;\n",
       "    }\n",
       "</style>\n",
       "<table border=\"1\" class=\"dataframe\">\n",
       "  <thead>\n",
       "    <tr style=\"text-align: right;\">\n",
       "      <th></th>\n",
       "      <th>sym</th>\n",
       "      <th>loss</th>\n",
       "      <th>make</th>\n",
       "      <th>fuel</th>\n",
       "      <th>asp</th>\n",
       "      <th>door</th>\n",
       "      <th>body</th>\n",
       "      <th>wheel</th>\n",
       "      <th>location</th>\n",
       "      <th>base</th>\n",
       "      <th>...</th>\n",
       "      <th>engine_size</th>\n",
       "      <th>sys</th>\n",
       "      <th>bore</th>\n",
       "      <th>str</th>\n",
       "      <th>com</th>\n",
       "      <th>hp</th>\n",
       "      <th>rpm</th>\n",
       "      <th>c_mpg</th>\n",
       "      <th>h_mpg</th>\n",
       "      <th>price</th>\n",
       "    </tr>\n",
       "  </thead>\n",
       "  <tbody>\n",
       "    <tr>\n",
       "      <th>0</th>\n",
       "      <td>False</td>\n",
       "      <td>True</td>\n",
       "      <td>False</td>\n",
       "      <td>False</td>\n",
       "      <td>False</td>\n",
       "      <td>False</td>\n",
       "      <td>False</td>\n",
       "      <td>False</td>\n",
       "      <td>False</td>\n",
       "      <td>False</td>\n",
       "      <td>...</td>\n",
       "      <td>False</td>\n",
       "      <td>False</td>\n",
       "      <td>False</td>\n",
       "      <td>False</td>\n",
       "      <td>False</td>\n",
       "      <td>False</td>\n",
       "      <td>False</td>\n",
       "      <td>False</td>\n",
       "      <td>False</td>\n",
       "      <td>False</td>\n",
       "    </tr>\n",
       "    <tr>\n",
       "      <th>1</th>\n",
       "      <td>False</td>\n",
       "      <td>True</td>\n",
       "      <td>False</td>\n",
       "      <td>False</td>\n",
       "      <td>False</td>\n",
       "      <td>False</td>\n",
       "      <td>False</td>\n",
       "      <td>False</td>\n",
       "      <td>False</td>\n",
       "      <td>False</td>\n",
       "      <td>...</td>\n",
       "      <td>False</td>\n",
       "      <td>False</td>\n",
       "      <td>False</td>\n",
       "      <td>False</td>\n",
       "      <td>False</td>\n",
       "      <td>False</td>\n",
       "      <td>False</td>\n",
       "      <td>False</td>\n",
       "      <td>False</td>\n",
       "      <td>False</td>\n",
       "    </tr>\n",
       "    <tr>\n",
       "      <th>2</th>\n",
       "      <td>False</td>\n",
       "      <td>True</td>\n",
       "      <td>False</td>\n",
       "      <td>False</td>\n",
       "      <td>False</td>\n",
       "      <td>False</td>\n",
       "      <td>False</td>\n",
       "      <td>False</td>\n",
       "      <td>False</td>\n",
       "      <td>False</td>\n",
       "      <td>...</td>\n",
       "      <td>False</td>\n",
       "      <td>False</td>\n",
       "      <td>False</td>\n",
       "      <td>False</td>\n",
       "      <td>False</td>\n",
       "      <td>False</td>\n",
       "      <td>False</td>\n",
       "      <td>False</td>\n",
       "      <td>False</td>\n",
       "      <td>False</td>\n",
       "    </tr>\n",
       "    <tr>\n",
       "      <th>3</th>\n",
       "      <td>False</td>\n",
       "      <td>False</td>\n",
       "      <td>False</td>\n",
       "      <td>False</td>\n",
       "      <td>False</td>\n",
       "      <td>False</td>\n",
       "      <td>False</td>\n",
       "      <td>False</td>\n",
       "      <td>False</td>\n",
       "      <td>False</td>\n",
       "      <td>...</td>\n",
       "      <td>False</td>\n",
       "      <td>False</td>\n",
       "      <td>False</td>\n",
       "      <td>False</td>\n",
       "      <td>False</td>\n",
       "      <td>False</td>\n",
       "      <td>False</td>\n",
       "      <td>False</td>\n",
       "      <td>False</td>\n",
       "      <td>False</td>\n",
       "    </tr>\n",
       "    <tr>\n",
       "      <th>4</th>\n",
       "      <td>False</td>\n",
       "      <td>False</td>\n",
       "      <td>False</td>\n",
       "      <td>False</td>\n",
       "      <td>False</td>\n",
       "      <td>False</td>\n",
       "      <td>False</td>\n",
       "      <td>False</td>\n",
       "      <td>False</td>\n",
       "      <td>False</td>\n",
       "      <td>...</td>\n",
       "      <td>False</td>\n",
       "      <td>False</td>\n",
       "      <td>False</td>\n",
       "      <td>False</td>\n",
       "      <td>False</td>\n",
       "      <td>False</td>\n",
       "      <td>False</td>\n",
       "      <td>False</td>\n",
       "      <td>False</td>\n",
       "      <td>False</td>\n",
       "    </tr>\n",
       "    <tr>\n",
       "      <th>...</th>\n",
       "      <td>...</td>\n",
       "      <td>...</td>\n",
       "      <td>...</td>\n",
       "      <td>...</td>\n",
       "      <td>...</td>\n",
       "      <td>...</td>\n",
       "      <td>...</td>\n",
       "      <td>...</td>\n",
       "      <td>...</td>\n",
       "      <td>...</td>\n",
       "      <td>...</td>\n",
       "      <td>...</td>\n",
       "      <td>...</td>\n",
       "      <td>...</td>\n",
       "      <td>...</td>\n",
       "      <td>...</td>\n",
       "      <td>...</td>\n",
       "      <td>...</td>\n",
       "      <td>...</td>\n",
       "      <td>...</td>\n",
       "      <td>...</td>\n",
       "    </tr>\n",
       "    <tr>\n",
       "      <th>200</th>\n",
       "      <td>False</td>\n",
       "      <td>False</td>\n",
       "      <td>False</td>\n",
       "      <td>False</td>\n",
       "      <td>False</td>\n",
       "      <td>False</td>\n",
       "      <td>False</td>\n",
       "      <td>False</td>\n",
       "      <td>False</td>\n",
       "      <td>False</td>\n",
       "      <td>...</td>\n",
       "      <td>False</td>\n",
       "      <td>False</td>\n",
       "      <td>False</td>\n",
       "      <td>False</td>\n",
       "      <td>False</td>\n",
       "      <td>False</td>\n",
       "      <td>False</td>\n",
       "      <td>False</td>\n",
       "      <td>False</td>\n",
       "      <td>False</td>\n",
       "    </tr>\n",
       "    <tr>\n",
       "      <th>201</th>\n",
       "      <td>False</td>\n",
       "      <td>False</td>\n",
       "      <td>False</td>\n",
       "      <td>False</td>\n",
       "      <td>False</td>\n",
       "      <td>False</td>\n",
       "      <td>False</td>\n",
       "      <td>False</td>\n",
       "      <td>False</td>\n",
       "      <td>False</td>\n",
       "      <td>...</td>\n",
       "      <td>False</td>\n",
       "      <td>False</td>\n",
       "      <td>False</td>\n",
       "      <td>False</td>\n",
       "      <td>False</td>\n",
       "      <td>False</td>\n",
       "      <td>False</td>\n",
       "      <td>False</td>\n",
       "      <td>False</td>\n",
       "      <td>False</td>\n",
       "    </tr>\n",
       "    <tr>\n",
       "      <th>202</th>\n",
       "      <td>False</td>\n",
       "      <td>False</td>\n",
       "      <td>False</td>\n",
       "      <td>False</td>\n",
       "      <td>False</td>\n",
       "      <td>False</td>\n",
       "      <td>False</td>\n",
       "      <td>False</td>\n",
       "      <td>False</td>\n",
       "      <td>False</td>\n",
       "      <td>...</td>\n",
       "      <td>False</td>\n",
       "      <td>False</td>\n",
       "      <td>False</td>\n",
       "      <td>False</td>\n",
       "      <td>False</td>\n",
       "      <td>False</td>\n",
       "      <td>False</td>\n",
       "      <td>False</td>\n",
       "      <td>False</td>\n",
       "      <td>False</td>\n",
       "    </tr>\n",
       "    <tr>\n",
       "      <th>203</th>\n",
       "      <td>False</td>\n",
       "      <td>False</td>\n",
       "      <td>False</td>\n",
       "      <td>False</td>\n",
       "      <td>False</td>\n",
       "      <td>False</td>\n",
       "      <td>False</td>\n",
       "      <td>False</td>\n",
       "      <td>False</td>\n",
       "      <td>False</td>\n",
       "      <td>...</td>\n",
       "      <td>False</td>\n",
       "      <td>False</td>\n",
       "      <td>False</td>\n",
       "      <td>False</td>\n",
       "      <td>False</td>\n",
       "      <td>False</td>\n",
       "      <td>False</td>\n",
       "      <td>False</td>\n",
       "      <td>False</td>\n",
       "      <td>False</td>\n",
       "    </tr>\n",
       "    <tr>\n",
       "      <th>204</th>\n",
       "      <td>False</td>\n",
       "      <td>False</td>\n",
       "      <td>False</td>\n",
       "      <td>False</td>\n",
       "      <td>False</td>\n",
       "      <td>False</td>\n",
       "      <td>False</td>\n",
       "      <td>False</td>\n",
       "      <td>False</td>\n",
       "      <td>False</td>\n",
       "      <td>...</td>\n",
       "      <td>False</td>\n",
       "      <td>False</td>\n",
       "      <td>False</td>\n",
       "      <td>False</td>\n",
       "      <td>False</td>\n",
       "      <td>False</td>\n",
       "      <td>False</td>\n",
       "      <td>False</td>\n",
       "      <td>False</td>\n",
       "      <td>False</td>\n",
       "    </tr>\n",
       "  </tbody>\n",
       "</table>\n",
       "<p>205 rows × 26 columns</p>\n",
       "</div>"
      ],
      "text/plain": [
       "       sym   loss   make   fuel    asp   door   body  wheel  location   base  \\\n",
       "0    False   True  False  False  False  False  False  False     False  False   \n",
       "1    False   True  False  False  False  False  False  False     False  False   \n",
       "2    False   True  False  False  False  False  False  False     False  False   \n",
       "3    False  False  False  False  False  False  False  False     False  False   \n",
       "4    False  False  False  False  False  False  False  False     False  False   \n",
       "..     ...    ...    ...    ...    ...    ...    ...    ...       ...    ...   \n",
       "200  False  False  False  False  False  False  False  False     False  False   \n",
       "201  False  False  False  False  False  False  False  False     False  False   \n",
       "202  False  False  False  False  False  False  False  False     False  False   \n",
       "203  False  False  False  False  False  False  False  False     False  False   \n",
       "204  False  False  False  False  False  False  False  False     False  False   \n",
       "\n",
       "     ...  engine_size    sys   bore    str    com     hp    rpm  c_mpg  h_mpg  \\\n",
       "0    ...        False  False  False  False  False  False  False  False  False   \n",
       "1    ...        False  False  False  False  False  False  False  False  False   \n",
       "2    ...        False  False  False  False  False  False  False  False  False   \n",
       "3    ...        False  False  False  False  False  False  False  False  False   \n",
       "4    ...        False  False  False  False  False  False  False  False  False   \n",
       "..   ...          ...    ...    ...    ...    ...    ...    ...    ...    ...   \n",
       "200  ...        False  False  False  False  False  False  False  False  False   \n",
       "201  ...        False  False  False  False  False  False  False  False  False   \n",
       "202  ...        False  False  False  False  False  False  False  False  False   \n",
       "203  ...        False  False  False  False  False  False  False  False  False   \n",
       "204  ...        False  False  False  False  False  False  False  False  False   \n",
       "\n",
       "     price  \n",
       "0    False  \n",
       "1    False  \n",
       "2    False  \n",
       "3    False  \n",
       "4    False  \n",
       "..     ...  \n",
       "200  False  \n",
       "201  False  \n",
       "202  False  \n",
       "203  False  \n",
       "204  False  \n",
       "\n",
       "[205 rows x 26 columns]"
      ]
     },
     "execution_count": 298,
     "metadata": {},
     "output_type": "execute_result"
    }
   ],
   "source": [
    "a.isnull()"
   ]
  },
  {
   "cell_type": "code",
   "execution_count": 299,
   "id": "4eae5fbf",
   "metadata": {},
   "outputs": [
    {
     "data": {
      "text/plain": [
       "sym             0\n",
       "loss           41\n",
       "make            0\n",
       "fuel            0\n",
       "asp             0\n",
       "door            2\n",
       "body            0\n",
       "wheel           0\n",
       "location        0\n",
       "base            0\n",
       "len             0\n",
       "wid             0\n",
       "ht              0\n",
       "c_wt            0\n",
       "engine          0\n",
       "cyl             0\n",
       "engine_size     0\n",
       "sys             0\n",
       "bore            4\n",
       "str             4\n",
       "com             0\n",
       "hp              2\n",
       "rpm             2\n",
       "c_mpg           0\n",
       "h_mpg           0\n",
       "price           4\n",
       "dtype: int64"
      ]
     },
     "execution_count": 299,
     "metadata": {},
     "output_type": "execute_result"
    }
   ],
   "source": [
    "a.isnull().sum()"
   ]
  },
  {
   "cell_type": "markdown",
   "id": "e0ffd91f",
   "metadata": {},
   "source": [
    "<H1>Symboling</H1>"
   ]
  },
  {
   "cell_type": "code",
   "execution_count": 300,
   "id": "8255e9dd",
   "metadata": {},
   "outputs": [
    {
     "data": {
      "text/plain": [
       " 0    67\n",
       " 1    54\n",
       " 2    32\n",
       " 3    27\n",
       "-1    22\n",
       "-2     3\n",
       "Name: sym, dtype: int64"
      ]
     },
     "execution_count": 300,
     "metadata": {},
     "output_type": "execute_result"
    }
   ],
   "source": [
    "#Sym-Discrete Data\n",
    "a.sym.value_counts()"
   ]
  },
  {
   "cell_type": "code",
   "execution_count": 301,
   "id": "d4b30ecf",
   "metadata": {},
   "outputs": [
    {
     "data": {
      "text/plain": [
       "0"
      ]
     },
     "execution_count": 301,
     "metadata": {},
     "output_type": "execute_result"
    }
   ],
   "source": [
    "a.sym.isnull().sum()"
   ]
  },
  {
   "cell_type": "code",
   "execution_count": 302,
   "id": "0ba7a8f2",
   "metadata": {},
   "outputs": [
    {
     "name": "stderr",
     "output_type": "stream",
     "text": [
      "C:\\Users\\SANJAY\\anaconda3\\lib\\site-packages\\seaborn\\_decorators.py:36: FutureWarning: Pass the following variable as a keyword arg: x. From version 0.12, the only valid positional argument will be `data`, and passing other arguments without an explicit keyword will result in an error or misinterpretation.\n",
      "  warnings.warn(\n"
     ]
    },
    {
     "data": {
      "text/plain": [
       "<AxesSubplot:xlabel='sym', ylabel='count'>"
      ]
     },
     "execution_count": 302,
     "metadata": {},
     "output_type": "execute_result"
    },
    {
     "data": {
      "image/png": "[encoded data removed]",
      "text/plain": [
       "<Figure size 432x288 with 1 Axes>"
      ]
     },
     "metadata": {
      "needs_background": "light"
     },
     "output_type": "display_data"
    }
   ],
   "source": [
    "sns.countplot(a.sym)"
   ]
  },
  {
   "cell_type": "code",
   "execution_count": 303,
   "id": "84cecc5d",
   "metadata": {},
   "outputs": [],
   "source": [
    "a.sym.replace([-2,-1,0,1,2,3],['less than zero','less than zero',0,1,2,3],inplace=True)"
   ]
  },
  {
   "cell_type": "code",
   "execution_count": 433,
   "id": "584895b5",
   "metadata": {},
   "outputs": [
    {
     "data": {
      "text/plain": [
       "0                 67\n",
       "1                 54\n",
       "2                 32\n",
       "3                 27\n",
       "less than zero    25\n",
       "Name: sym, dtype: int64"
      ]
     },
     "execution_count": 433,
     "metadata": {},
     "output_type": "execute_result"
    }
   ],
   "source": [
    "a.sym.value_counts()"
   ]
  },
  {
   "cell_type": "code",
   "execution_count": 304,
   "id": "3a128183",
   "metadata": {},
   "outputs": [
    {
     "name": "stderr",
     "output_type": "stream",
     "text": [
      "C:\\Users\\SANJAY\\anaconda3\\lib\\site-packages\\seaborn\\_decorators.py:36: FutureWarning: Pass the following variable as a keyword arg: x. From version 0.12, the only valid positional argument will be `data`, and passing other arguments without an explicit keyword will result in an error or misinterpretation.\n",
      "  warnings.warn(\n"
     ]
    },
    {
     "data": {
      "text/plain": [
       "<AxesSubplot:xlabel='sym', ylabel='count'>"
      ]
     },
     "execution_count": 304,
     "metadata": {},
     "output_type": "execute_result"
    },
    {
     "data": {
      "image/png": "[encoded data removed]",
      "text/plain": [
       "<Figure size 720x360 with 1 Axes>"
      ]
     },
     "metadata": {
      "needs_background": "light"
     },
     "output_type": "display_data"
    }
   ],
   "source": [
    "plt.figure(figsize=(10,5))\n",
    "sns.countplot(a.sym,order=['less than zero',0,1,2,3])"
   ]
  },
  {
   "cell_type": "markdown",
   "id": "b59fb4f0",
   "metadata": {},
   "source": [
    "<H1>Normalized Losses</H1>"
   ]
  },
  {
   "cell_type": "code",
   "execution_count": 305,
   "id": "c80c24da",
   "metadata": {},
   "outputs": [
    {
     "data": {
      "text/plain": [
       "41"
      ]
     },
     "execution_count": 305,
     "metadata": {},
     "output_type": "execute_result"
    }
   ],
   "source": [
    "a.loss.isnull().sum()"
   ]
  },
  {
   "cell_type": "code",
   "execution_count": 306,
   "id": "987a52ad",
   "metadata": {},
   "outputs": [
    {
     "data": {
      "text/plain": [
       "array([ nan, 164., 158., 192., 188., 121.,  98.,  81., 118., 148., 110.,\n",
       "       145., 137., 101.,  78., 106.,  85., 107., 104., 113., 150., 129.,\n",
       "       115.,  93., 142., 161., 153., 125., 128., 122., 103., 168., 108.,\n",
       "       194., 231., 119., 154.,  74., 186.,  83., 102.,  89.,  87.,  77.,\n",
       "        91., 134.,  65., 197.,  90.,  94., 256.,  95.])"
      ]
     },
     "execution_count": 306,
     "metadata": {},
     "output_type": "execute_result"
    }
   ],
   "source": [
    "a.loss.unique()"
   ]
  },
  {
   "cell_type": "code",
   "execution_count": 307,
   "id": "8c2d9e06",
   "metadata": {},
   "outputs": [],
   "source": [
    "a.loss.fillna(122.000000,inplace=True)"
   ]
  },
  {
   "cell_type": "code",
   "execution_count": 308,
   "id": "3013e58a",
   "metadata": {},
   "outputs": [
    {
     "data": {
      "text/plain": [
       "ShapiroResult(statistic=0.9490930438041687, pvalue=1.1780501836256008e-06)"
      ]
     },
     "execution_count": 308,
     "metadata": {},
     "output_type": "execute_result"
    }
   ],
   "source": [
    "#Loss-Continuous Data\n",
    "stats.shapiro(a.loss)"
   ]
  },
  {
   "cell_type": "code",
   "execution_count": 309,
   "id": "0796c9e3",
   "metadata": {},
   "outputs": [
    {
     "data": {
      "text/plain": [
       "{'whiskers': [<matplotlib.lines.Line2D at 0x226bb4e6130>,\n",
       "  <matplotlib.lines.Line2D at 0x226bb4e64c0>],\n",
       " 'caps': [<matplotlib.lines.Line2D at 0x226bb4e6850>,\n",
       "  <matplotlib.lines.Line2D at 0x226bb4e6be0>],\n",
       " 'boxes': [<matplotlib.lines.Line2D at 0x226bb4d5d60>],\n",
       " 'medians': [<matplotlib.lines.Line2D at 0x226bb4e6f70>],\n",
       " 'fliers': [<matplotlib.lines.Line2D at 0x226bb4f3340>],\n",
       " 'means': []}"
      ]
     },
     "execution_count": 309,
     "metadata": {},
     "output_type": "execute_result"
    },
    {
     "data": {
      "image/png": "[encoded data removed]",
      "text/plain": [
       "<Figure size 432x288 with 1 Axes>"
      ]
     },
     "metadata": {
      "needs_background": "light"
     },
     "output_type": "display_data"
    }
   ],
   "source": [
    "plt.boxplot(a.loss)"
   ]
  },
  {
   "cell_type": "code",
   "execution_count": 310,
   "id": "731b4545",
   "metadata": {},
   "outputs": [
    {
     "data": {
      "text/plain": [
       "(array([17., 46., 72., 20., 21., 18.,  9.,  0.,  1.,  1.]),\n",
       " array([ 65. ,  84.1, 103.2, 122.3, 141.4, 160.5, 179.6, 198.7, 217.8,\n",
       "        236.9, 256. ]),\n",
       " <BarContainer object of 10 artists>)"
      ]
     },
     "execution_count": 310,
     "metadata": {},
     "output_type": "execute_result"
    },
    {
     "data": {
      "image/png": "[encoded data removed]",
      "text/plain": [
       "<Figure size 432x288 with 1 Axes>"
      ]
     },
     "metadata": {
      "needs_background": "light"
     },
     "output_type": "display_data"
    }
   ],
   "source": [
    "plt.hist(a.loss)"
   ]
  },
  {
   "cell_type": "markdown",
   "id": "ca016987",
   "metadata": {},
   "source": [
    "<H1>Make</H1>"
   ]
  },
  {
   "cell_type": "code",
   "execution_count": 311,
   "id": "017a8620",
   "metadata": {},
   "outputs": [
    {
     "data": {
      "text/plain": [
       "toyota           32\n",
       "nissan           18\n",
       "mazda            17\n",
       "mitsubishi       13\n",
       "honda            13\n",
       "volkswagen       12\n",
       "subaru           12\n",
       "peugot           11\n",
       "volvo            11\n",
       "dodge             9\n",
       "mercedes-benz     8\n",
       "bmw               8\n",
       "audi              7\n",
       "plymouth          7\n",
       "saab              6\n",
       "porsche           5\n",
       "isuzu             4\n",
       "jaguar            3\n",
       "chevrolet         3\n",
       "alfa-romero       3\n",
       "renault           2\n",
       "mercury           1\n",
       "Name: make, dtype: int64"
      ]
     },
     "execution_count": 311,
     "metadata": {},
     "output_type": "execute_result"
    }
   ],
   "source": [
    "#Make-Discrete Data\n",
    "a.make.value_counts()"
   ]
  },
  {
   "cell_type": "code",
   "execution_count": 312,
   "id": "c1239610",
   "metadata": {},
   "outputs": [
    {
     "data": {
      "text/plain": [
       "0"
      ]
     },
     "execution_count": 312,
     "metadata": {},
     "output_type": "execute_result"
    }
   ],
   "source": [
    "a.make.isnull().sum()"
   ]
  },
  {
   "cell_type": "code",
   "execution_count": 313,
   "id": "58738b94",
   "metadata": {},
   "outputs": [
    {
     "name": "stderr",
     "output_type": "stream",
     "text": [
      "C:\\Users\\SANJAY\\anaconda3\\lib\\site-packages\\seaborn\\_decorators.py:36: FutureWarning: Pass the following variable as a keyword arg: x. From version 0.12, the only valid positional argument will be `data`, and passing other arguments without an explicit keyword will result in an error or misinterpretation.\n",
      "  warnings.warn(\n"
     ]
    },
    {
     "data": {
      "text/plain": [
       "<AxesSubplot:xlabel='make', ylabel='count'>"
      ]
     },
     "execution_count": 313,
     "metadata": {},
     "output_type": "execute_result"
    },
    {
     "data": {
      "image/png": "[encoded data removed]",
      "text/plain": [
       "<Figure size 1440x1080 with 1 Axes>"
      ]
     },
     "metadata": {
      "needs_background": "light"
     },
     "output_type": "display_data"
    }
   ],
   "source": [
    "plt.figure(figsize=(20,15))\n",
    "sns.countplot(a.make)"
   ]
  },
  {
   "cell_type": "markdown",
   "id": "468b34e3",
   "metadata": {},
   "source": [
    "<H1>Fuel Type</H1>"
   ]
  },
  {
   "cell_type": "code",
   "execution_count": 314,
   "id": "1d054e11",
   "metadata": {},
   "outputs": [
    {
     "data": {
      "text/plain": [
       "gas       185\n",
       "diesel     20\n",
       "Name: fuel, dtype: int64"
      ]
     },
     "execution_count": 314,
     "metadata": {},
     "output_type": "execute_result"
    }
   ],
   "source": [
    "#Fuel-Discrete Data\n",
    "a.fuel.value_counts()"
   ]
  },
  {
   "cell_type": "code",
   "execution_count": 315,
   "id": "fa9b3f6b",
   "metadata": {},
   "outputs": [
    {
     "data": {
      "text/plain": [
       "0"
      ]
     },
     "execution_count": 315,
     "metadata": {},
     "output_type": "execute_result"
    }
   ],
   "source": [
    "a.fuel.isnull().sum()"
   ]
  },
  {
   "cell_type": "code",
   "execution_count": 316,
   "id": "8e9b0283",
   "metadata": {},
   "outputs": [
    {
     "name": "stderr",
     "output_type": "stream",
     "text": [
      "C:\\Users\\SANJAY\\anaconda3\\lib\\site-packages\\seaborn\\_decorators.py:36: FutureWarning: Pass the following variable as a keyword arg: x. From version 0.12, the only valid positional argument will be `data`, and passing other arguments without an explicit keyword will result in an error or misinterpretation.\n",
      "  warnings.warn(\n"
     ]
    },
    {
     "data": {
      "text/plain": [
       "<AxesSubplot:xlabel='fuel', ylabel='count'>"
      ]
     },
     "execution_count": 316,
     "metadata": {},
     "output_type": "execute_result"
    },
    {
     "data": {
      "image/png": "[encoded data removed]",
      "text/plain": [
       "<Figure size 432x288 with 1 Axes>"
      ]
     },
     "metadata": {
      "needs_background": "light"
     },
     "output_type": "display_data"
    }
   ],
   "source": [
    "sns.countplot(a.fuel)"
   ]
  },
  {
   "cell_type": "markdown",
   "id": "33af73b2",
   "metadata": {},
   "source": [
    "<H1>Aspiration</H1>"
   ]
  },
  {
   "cell_type": "code",
   "execution_count": 317,
   "id": "86e80b81",
   "metadata": {},
   "outputs": [
    {
     "data": {
      "text/plain": [
       "std      168\n",
       "turbo     37\n",
       "Name: asp, dtype: int64"
      ]
     },
     "execution_count": 317,
     "metadata": {},
     "output_type": "execute_result"
    }
   ],
   "source": [
    "#Asp-Discrete Data\n",
    "a.asp.value_counts()"
   ]
  },
  {
   "cell_type": "code",
   "execution_count": 318,
   "id": "27fa105b",
   "metadata": {},
   "outputs": [
    {
     "data": {
      "text/plain": [
       "0"
      ]
     },
     "execution_count": 318,
     "metadata": {},
     "output_type": "execute_result"
    }
   ],
   "source": [
    "a.asp.isnull().sum()"
   ]
  },
  {
   "cell_type": "code",
   "execution_count": 319,
   "id": "1fd17b02",
   "metadata": {},
   "outputs": [
    {
     "name": "stderr",
     "output_type": "stream",
     "text": [
      "C:\\Users\\SANJAY\\anaconda3\\lib\\site-packages\\seaborn\\_decorators.py:36: FutureWarning: Pass the following variable as a keyword arg: x. From version 0.12, the only valid positional argument will be `data`, and passing other arguments without an explicit keyword will result in an error or misinterpretation.\n",
      "  warnings.warn(\n"
     ]
    },
    {
     "data": {
      "text/plain": [
       "<AxesSubplot:xlabel='asp', ylabel='count'>"
      ]
     },
     "execution_count": 319,
     "metadata": {},
     "output_type": "execute_result"
    },
    {
     "data": {
      "image/png": "[encoded data removed]",
      "text/plain": [
       "<Figure size 432x288 with 1 Axes>"
      ]
     },
     "metadata": {
      "needs_background": "light"
     },
     "output_type": "display_data"
    }
   ],
   "source": [
    "sns.countplot(a.asp)"
   ]
  },
  {
   "cell_type": "markdown",
   "id": "62c8f818",
   "metadata": {},
   "source": [
    "<H1>Number of Doors</H1>"
   ]
  },
  {
   "cell_type": "code",
   "execution_count": 320,
   "id": "4d4307b3",
   "metadata": {},
   "outputs": [
    {
     "data": {
      "text/plain": [
       "four    114\n",
       "two      89\n",
       "Name: door, dtype: int64"
      ]
     },
     "execution_count": 320,
     "metadata": {},
     "output_type": "execute_result"
    }
   ],
   "source": [
    "#Door-Discrete Data\n",
    "a.door.value_counts()"
   ]
  },
  {
   "cell_type": "code",
   "execution_count": 321,
   "id": "4fbb285c",
   "metadata": {},
   "outputs": [
    {
     "data": {
      "text/plain": [
       "2"
      ]
     },
     "execution_count": 321,
     "metadata": {},
     "output_type": "execute_result"
    }
   ],
   "source": [
    "a.door.isnull().sum()"
   ]
  },
  {
   "cell_type": "code",
   "execution_count": 322,
   "id": "6ad773fb",
   "metadata": {},
   "outputs": [],
   "source": [
    "b=a.door.mode()\n",
    "a.door.fillna(b,inplace=True)"
   ]
  },
  {
   "cell_type": "code",
   "execution_count": 323,
   "id": "d049a295",
   "metadata": {},
   "outputs": [
    {
     "name": "stderr",
     "output_type": "stream",
     "text": [
      "C:\\Users\\SANJAY\\anaconda3\\lib\\site-packages\\seaborn\\_decorators.py:36: FutureWarning: Pass the following variable as a keyword arg: x. From version 0.12, the only valid positional argument will be `data`, and passing other arguments without an explicit keyword will result in an error or misinterpretation.\n",
      "  warnings.warn(\n"
     ]
    },
    {
     "data": {
      "text/plain": [
       "<AxesSubplot:xlabel='door', ylabel='count'>"
      ]
     },
     "execution_count": 323,
     "metadata": {},
     "output_type": "execute_result"
    },
    {
     "data": {
      "image/png": "[encoded data removed]",
      "text/plain": [
       "<Figure size 432x288 with 1 Axes>"
      ]
     },
     "metadata": {
      "needs_background": "light"
     },
     "output_type": "display_data"
    }
   ],
   "source": [
    "sns.countplot(a.door)"
   ]
  },
  {
   "cell_type": "markdown",
   "id": "4c507d0f",
   "metadata": {},
   "source": [
    "<H1>Body Style</H1>"
   ]
  },
  {
   "cell_type": "code",
   "execution_count": 324,
   "id": "5447f14a",
   "metadata": {},
   "outputs": [
    {
     "data": {
      "text/plain": [
       "sedan          96\n",
       "hatchback      70\n",
       "wagon          25\n",
       "hardtop         8\n",
       "convertible     6\n",
       "Name: body, dtype: int64"
      ]
     },
     "execution_count": 324,
     "metadata": {},
     "output_type": "execute_result"
    }
   ],
   "source": [
    "#Body-Discrete Data\n",
    "a.body.value_counts()"
   ]
  },
  {
   "cell_type": "code",
   "execution_count": 325,
   "id": "5c5d9b9e",
   "metadata": {},
   "outputs": [
    {
     "data": {
      "text/plain": [
       "0"
      ]
     },
     "execution_count": 325,
     "metadata": {},
     "output_type": "execute_result"
    }
   ],
   "source": [
    "a.body.isnull().sum()"
   ]
  },
  {
   "cell_type": "code",
   "execution_count": 326,
   "id": "70f94036",
   "metadata": {},
   "outputs": [
    {
     "name": "stderr",
     "output_type": "stream",
     "text": [
      "C:\\Users\\SANJAY\\anaconda3\\lib\\site-packages\\seaborn\\_decorators.py:36: FutureWarning: Pass the following variable as a keyword arg: x. From version 0.12, the only valid positional argument will be `data`, and passing other arguments without an explicit keyword will result in an error or misinterpretation.\n",
      "  warnings.warn(\n"
     ]
    },
    {
     "data": {
      "text/plain": [
       "<AxesSubplot:xlabel='body', ylabel='count'>"
      ]
     },
     "execution_count": 326,
     "metadata": {},
     "output_type": "execute_result"
    },
    {
     "data": {
      "image/png": "[encoded data removed]",
      "text/plain": [
       "<Figure size 432x288 with 1 Axes>"
      ]
     },
     "metadata": {
      "needs_background": "light"
     },
     "output_type": "display_data"
    }
   ],
   "source": [
    "sns.countplot(a.body)"
   ]
  },
  {
   "cell_type": "markdown",
   "id": "35e13502",
   "metadata": {},
   "source": [
    "<H1>Drive Wheels</H1>"
   ]
  },
  {
   "cell_type": "code",
   "execution_count": 327,
   "id": "bc2153ed",
   "metadata": {},
   "outputs": [
    {
     "data": {
      "text/plain": [
       "fwd    120\n",
       "rwd     76\n",
       "4wd      9\n",
       "Name: wheel, dtype: int64"
      ]
     },
     "execution_count": 327,
     "metadata": {},
     "output_type": "execute_result"
    }
   ],
   "source": [
    "#Wheel-Discrete Data\n",
    "a.wheel.value_counts()"
   ]
  },
  {
   "cell_type": "code",
   "execution_count": 328,
   "id": "a73049d0",
   "metadata": {},
   "outputs": [
    {
     "data": {
      "text/plain": [
       "0"
      ]
     },
     "execution_count": 328,
     "metadata": {},
     "output_type": "execute_result"
    }
   ],
   "source": [
    "a.wheel.isnull().sum()"
   ]
  },
  {
   "cell_type": "code",
   "execution_count": 329,
   "id": "0233f968",
   "metadata": {},
   "outputs": [
    {
     "name": "stderr",
     "output_type": "stream",
     "text": [
      "C:\\Users\\SANJAY\\anaconda3\\lib\\site-packages\\seaborn\\_decorators.py:36: FutureWarning: Pass the following variable as a keyword arg: x. From version 0.12, the only valid positional argument will be `data`, and passing other arguments without an explicit keyword will result in an error or misinterpretation.\n",
      "  warnings.warn(\n"
     ]
    },
    {
     "data": {
      "text/plain": [
       "<AxesSubplot:xlabel='wheel', ylabel='count'>"
      ]
     },
     "execution_count": 329,
     "metadata": {},
     "output_type": "execute_result"
    },
    {
     "data": {
      "image/png": "[encoded data removed]",
      "text/plain": [
       "<Figure size 432x288 with 1 Axes>"
      ]
     },
     "metadata": {
      "needs_background": "light"
     },
     "output_type": "display_data"
    }
   ],
   "source": [
    "sns.countplot(a.wheel)"
   ]
  },
  {
   "cell_type": "markdown",
   "id": "b00a0160",
   "metadata": {},
   "source": [
    "<H1>Engine Location</H1>"
   ]
  },
  {
   "cell_type": "code",
   "execution_count": 330,
   "id": "029e806b",
   "metadata": {},
   "outputs": [
    {
     "data": {
      "text/plain": [
       "front    202\n",
       "rear       3\n",
       "Name: location, dtype: int64"
      ]
     },
     "execution_count": 330,
     "metadata": {},
     "output_type": "execute_result"
    }
   ],
   "source": [
    "#Location-Discrete Data\n",
    "a.location.value_counts()"
   ]
  },
  {
   "cell_type": "code",
   "execution_count": 331,
   "id": "bb1572e6",
   "metadata": {},
   "outputs": [
    {
     "data": {
      "text/plain": [
       "0"
      ]
     },
     "execution_count": 331,
     "metadata": {},
     "output_type": "execute_result"
    }
   ],
   "source": [
    "a.location.isnull().sum()"
   ]
  },
  {
   "cell_type": "code",
   "execution_count": 332,
   "id": "8e47ec48",
   "metadata": {},
   "outputs": [
    {
     "name": "stderr",
     "output_type": "stream",
     "text": [
      "C:\\Users\\SANJAY\\anaconda3\\lib\\site-packages\\seaborn\\_decorators.py:36: FutureWarning: Pass the following variable as a keyword arg: x. From version 0.12, the only valid positional argument will be `data`, and passing other arguments without an explicit keyword will result in an error or misinterpretation.\n",
      "  warnings.warn(\n"
     ]
    },
    {
     "data": {
      "text/plain": [
       "<AxesSubplot:xlabel='location', ylabel='count'>"
      ]
     },
     "execution_count": 332,
     "metadata": {},
     "output_type": "execute_result"
    },
    {
     "data": {
      "image/png": "[encoded data removed]",
      "text/plain": [
       "<Figure size 432x288 with 1 Axes>"
      ]
     },
     "metadata": {
      "needs_background": "light"
     },
     "output_type": "display_data"
    }
   ],
   "source": [
    "sns.countplot(a.location)"
   ]
  },
  {
   "cell_type": "markdown",
   "id": "65d0da43",
   "metadata": {},
   "source": [
    "<H1>Wheel Base</H1>"
   ]
  },
  {
   "cell_type": "code",
   "execution_count": 333,
   "id": "71d6dda2",
   "metadata": {},
   "outputs": [
    {
     "data": {
      "text/plain": [
       "0"
      ]
     },
     "execution_count": 333,
     "metadata": {},
     "output_type": "execute_result"
    }
   ],
   "source": [
    "a.base.isnull().sum()"
   ]
  },
  {
   "cell_type": "code",
   "execution_count": 334,
   "id": "2e8a6d70",
   "metadata": {},
   "outputs": [
    {
     "data": {
      "text/plain": [
       "ShapiroResult(statistic=0.9115860462188721, pvalue=1.0368441660801864e-09)"
      ]
     },
     "execution_count": 334,
     "metadata": {},
     "output_type": "execute_result"
    }
   ],
   "source": [
    "#Base-Continuous Data\n",
    "stats.shapiro(a.base)"
   ]
  },
  {
   "cell_type": "code",
   "execution_count": 335,
   "id": "414a4b96",
   "metadata": {},
   "outputs": [
    {
     "data": {
      "text/plain": [
       "{'whiskers': [<matplotlib.lines.Line2D at 0x226bec15df0>,\n",
       "  <matplotlib.lines.Line2D at 0x226bec251c0>],\n",
       " 'caps': [<matplotlib.lines.Line2D at 0x226bec25550>,\n",
       "  <matplotlib.lines.Line2D at 0x226bec258e0>],\n",
       " 'boxes': [<matplotlib.lines.Line2D at 0x226bec15a60>],\n",
       " 'medians': [<matplotlib.lines.Line2D at 0x226bec25c70>],\n",
       " 'fliers': [<matplotlib.lines.Line2D at 0x226bec2f040>],\n",
       " 'means': []}"
      ]
     },
     "execution_count": 335,
     "metadata": {},
     "output_type": "execute_result"
    },
    {
     "data": {
      "image/png": "[encoded data removed]",
      "text/plain": [
       "<Figure size 432x288 with 1 Axes>"
      ]
     },
     "metadata": {
      "needs_background": "light"
     },
     "output_type": "display_data"
    }
   ],
   "source": [
    "plt.boxplot(a.base)"
   ]
  },
  {
   "cell_type": "code",
   "execution_count": 336,
   "id": "17fee32c",
   "metadata": {},
   "outputs": [
    {
     "data": {
      "text/plain": [
       "(array([ 8.,  9., 83., 42., 24., 14., 15.,  3.,  6.,  1.]),\n",
       " array([ 86.6 ,  90.03,  93.46,  96.89, 100.32, 103.75, 107.18, 110.61,\n",
       "        114.04, 117.47, 120.9 ]),\n",
       " <BarContainer object of 10 artists>)"
      ]
     },
     "execution_count": 336,
     "metadata": {},
     "output_type": "execute_result"
    },
    {
     "data": {
      "image/png": "[encoded data removed]",
      "text/plain": [
       "<Figure size 432x288 with 1 Axes>"
      ]
     },
     "metadata": {
      "needs_background": "light"
     },
     "output_type": "display_data"
    }
   ],
   "source": [
    "plt.hist(a.base)"
   ]
  },
  {
   "cell_type": "markdown",
   "id": "25af07c3",
   "metadata": {},
   "source": [
    "<H1>Length</H1>"
   ]
  },
  {
   "cell_type": "code",
   "execution_count": 337,
   "id": "671045a8",
   "metadata": {},
   "outputs": [
    {
     "data": {
      "text/plain": [
       "0"
      ]
     },
     "execution_count": 337,
     "metadata": {},
     "output_type": "execute_result"
    }
   ],
   "source": [
    "a.len.isnull().sum()"
   ]
  },
  {
   "cell_type": "code",
   "execution_count": 338,
   "id": "960c0e8a",
   "metadata": {},
   "outputs": [
    {
     "data": {
      "text/plain": [
       "ShapiroResult(statistic=0.9820953607559204, pvalue=0.01036272943019867)"
      ]
     },
     "execution_count": 338,
     "metadata": {},
     "output_type": "execute_result"
    }
   ],
   "source": [
    "#Len-Continuous Data\n",
    "stats.shapiro(a.len)"
   ]
  },
  {
   "cell_type": "code",
   "execution_count": 339,
   "id": "5353a651",
   "metadata": {},
   "outputs": [
    {
     "data": {
      "text/plain": [
       "{'whiskers': [<matplotlib.lines.Line2D at 0x226bed0f070>,\n",
       "  <matplotlib.lines.Line2D at 0x226bed0f400>],\n",
       " 'caps': [<matplotlib.lines.Line2D at 0x226bed0f790>,\n",
       "  <matplotlib.lines.Line2D at 0x226bed0fb20>],\n",
       " 'boxes': [<matplotlib.lines.Line2D at 0x226bed01ca0>],\n",
       " 'medians': [<matplotlib.lines.Line2D at 0x226bed0feb0>],\n",
       " 'fliers': [<matplotlib.lines.Line2D at 0x226bed1d280>],\n",
       " 'means': []}"
      ]
     },
     "execution_count": 339,
     "metadata": {},
     "output_type": "execute_result"
    },
    {
     "data": {
      "image/png": "[encoded data removed]",
      "text/plain": [
       "<Figure size 432x288 with 1 Axes>"
      ]
     },
     "metadata": {
      "needs_background": "light"
     },
     "output_type": "display_data"
    }
   ],
   "source": [
    "plt.boxplot(a.len)"
   ]
  },
  {
   "cell_type": "code",
   "execution_count": 340,
   "id": "64a37ba0",
   "metadata": {},
   "outputs": [
    {
     "data": {
      "text/plain": [
       "(array([ 3.,  3., 29., 23., 54., 39., 23., 20.,  8.,  3.]),\n",
       " array([141.1, 147.8, 154.5, 161.2, 167.9, 174.6, 181.3, 188. , 194.7,\n",
       "        201.4, 208.1]),\n",
       " <BarContainer object of 10 artists>)"
      ]
     },
     "execution_count": 340,
     "metadata": {},
     "output_type": "execute_result"
    },
    {
     "data": {
      "image/png": "[encoded data removed]",
      "text/plain": [
       "<Figure size 432x288 with 1 Axes>"
      ]
     },
     "metadata": {
      "needs_background": "light"
     },
     "output_type": "display_data"
    }
   ],
   "source": [
    "plt.hist(a.len)"
   ]
  },
  {
   "cell_type": "markdown",
   "id": "bcb2b552",
   "metadata": {},
   "source": [
    "<H1>Width</H1>"
   ]
  },
  {
   "cell_type": "code",
   "execution_count": 341,
   "id": "27dfefb6",
   "metadata": {},
   "outputs": [
    {
     "data": {
      "text/plain": [
       "0"
      ]
     },
     "execution_count": 341,
     "metadata": {},
     "output_type": "execute_result"
    }
   ],
   "source": [
    "a.wid.isnull().sum()"
   ]
  },
  {
   "cell_type": "code",
   "execution_count": 342,
   "id": "f7977be3",
   "metadata": {},
   "outputs": [
    {
     "data": {
      "text/plain": [
       "ShapiroResult(statistic=0.9210780262947083, pvalue=5.012857240416224e-09)"
      ]
     },
     "execution_count": 342,
     "metadata": {},
     "output_type": "execute_result"
    }
   ],
   "source": [
    "#Wid-Continuous Data\n",
    "stats.shapiro(a.wid)"
   ]
  },
  {
   "cell_type": "code",
   "execution_count": 343,
   "id": "bc60038a",
   "metadata": {},
   "outputs": [
    {
     "data": {
      "text/plain": [
       "{'whiskers': [<matplotlib.lines.Line2D at 0x226bedf4130>,\n",
       "  <matplotlib.lines.Line2D at 0x226bedf44c0>],\n",
       " 'caps': [<matplotlib.lines.Line2D at 0x226bedf4850>,\n",
       "  <matplotlib.lines.Line2D at 0x226bedf4be0>],\n",
       " 'boxes': [<matplotlib.lines.Line2D at 0x226bede4d60>],\n",
       " 'medians': [<matplotlib.lines.Line2D at 0x226bedf4f70>],\n",
       " 'fliers': [<matplotlib.lines.Line2D at 0x226bedfe340>],\n",
       " 'means': []}"
      ]
     },
     "execution_count": 343,
     "metadata": {},
     "output_type": "execute_result"
    },
    {
     "data": {
      "image/png": "[encoded data removed]",
      "text/plain": [
       "<Figure size 432x288 with 1 Axes>"
      ]
     },
     "metadata": {
      "needs_background": "light"
     },
     "output_type": "display_data"
    }
   ],
   "source": [
    "plt.boxplot(a.wid)"
   ]
  },
  {
   "cell_type": "code",
   "execution_count": 344,
   "id": "a6e385c6",
   "metadata": {},
   "outputs": [
    {
     "data": {
      "text/plain": [
       "(array([ 1.,  2., 36., 39., 44., 42., 20.,  7.,  6.,  8.]),\n",
       " array([60.3, 61.5, 62.7, 63.9, 65.1, 66.3, 67.5, 68.7, 69.9, 71.1, 72.3]),\n",
       " <BarContainer object of 10 artists>)"
      ]
     },
     "execution_count": 344,
     "metadata": {},
     "output_type": "execute_result"
    },
    {
     "data": {
      "image/png": "[encoded data removed]",
      "text/plain": [
       "<Figure size 432x288 with 1 Axes>"
      ]
     },
     "metadata": {
      "needs_background": "light"
     },
     "output_type": "display_data"
    }
   ],
   "source": [
    "plt.hist(a.wid)"
   ]
  },
  {
   "cell_type": "markdown",
   "id": "6ba4dd1b",
   "metadata": {},
   "source": [
    "<H1>Height</H1>"
   ]
  },
  {
   "cell_type": "code",
   "execution_count": 345,
   "id": "231dd6fa",
   "metadata": {},
   "outputs": [
    {
     "data": {
      "text/plain": [
       "0"
      ]
     },
     "execution_count": 345,
     "metadata": {},
     "output_type": "execute_result"
    }
   ],
   "source": [
    "a.ht.isnull().sum()"
   ]
  },
  {
   "cell_type": "code",
   "execution_count": 346,
   "id": "8f96bd02",
   "metadata": {},
   "outputs": [
    {
     "data": {
      "text/plain": [
       "ShapiroResult(statistic=0.9842321276664734, pvalue=0.021682262420654297)"
      ]
     },
     "execution_count": 346,
     "metadata": {},
     "output_type": "execute_result"
    }
   ],
   "source": [
    "#Ht-Continuous Data\n",
    "stats.shapiro(a.ht)"
   ]
  },
  {
   "cell_type": "code",
   "execution_count": 347,
   "id": "a3138e15",
   "metadata": {},
   "outputs": [
    {
     "data": {
      "text/plain": [
       "{'whiskers': [<matplotlib.lines.Line2D at 0x226beea8e20>,\n",
       "  <matplotlib.lines.Line2D at 0x226beeb41f0>],\n",
       " 'caps': [<matplotlib.lines.Line2D at 0x226beeb4580>,\n",
       "  <matplotlib.lines.Line2D at 0x226beeb4910>],\n",
       " 'boxes': [<matplotlib.lines.Line2D at 0x226beea8a90>],\n",
       " 'medians': [<matplotlib.lines.Line2D at 0x226beeb4ca0>],\n",
       " 'fliers': [<matplotlib.lines.Line2D at 0x226beebe070>],\n",
       " 'means': []}"
      ]
     },
     "execution_count": 347,
     "metadata": {},
     "output_type": "execute_result"
    },
    {
     "data": {
      "image/png": "[encoded data removed]",
      "text/plain": [
       "<Figure size 432x288 with 1 Axes>"
      ]
     },
     "metadata": {
      "needs_background": "light"
     },
     "output_type": "display_data"
    }
   ],
   "source": [
    "plt.boxplot(a.ht)"
   ]
  },
  {
   "cell_type": "code",
   "execution_count": 348,
   "id": "e7568c05",
   "metadata": {},
   "outputs": [
    {
     "data": {
      "text/plain": [
       "(array([ 3.,  9., 28., 25., 33., 41., 38., 15.,  4.,  9.]),\n",
       " array([47.8, 49. , 50.2, 51.4, 52.6, 53.8, 55. , 56.2, 57.4, 58.6, 59.8]),\n",
       " <BarContainer object of 10 artists>)"
      ]
     },
     "execution_count": 348,
     "metadata": {},
     "output_type": "execute_result"
    },
    {
     "data": {
      "image/png": "[encoded data removed]",
      "text/plain": [
       "<Figure size 432x288 with 1 Axes>"
      ]
     },
     "metadata": {
      "needs_background": "light"
     },
     "output_type": "display_data"
    }
   ],
   "source": [
    "plt.hist(a.ht)"
   ]
  },
  {
   "cell_type": "markdown",
   "id": "793d3a8a",
   "metadata": {},
   "source": [
    "<H1>Curb Weight</H1>"
   ]
  },
  {
   "cell_type": "code",
   "execution_count": 349,
   "id": "eb95b82c",
   "metadata": {},
   "outputs": [
    {
     "data": {
      "text/plain": [
       "0"
      ]
     },
     "execution_count": 349,
     "metadata": {},
     "output_type": "execute_result"
    }
   ],
   "source": [
    "a.c_wt.isnull().sum()"
   ]
  },
  {
   "cell_type": "code",
   "execution_count": 350,
   "id": "45918c81",
   "metadata": {},
   "outputs": [
    {
     "data": {
      "text/plain": [
       "ShapiroResult(statistic=0.9530424475669861, pvalue=2.8916113024024526e-06)"
      ]
     },
     "execution_count": 350,
     "metadata": {},
     "output_type": "execute_result"
    }
   ],
   "source": [
    "#C_wt-Continuous Data\n",
    "stats.shapiro(a.c_wt)"
   ]
  },
  {
   "cell_type": "code",
   "execution_count": 351,
   "id": "d1f086be",
   "metadata": {},
   "outputs": [
    {
     "data": {
      "text/plain": [
       "{'whiskers': [<matplotlib.lines.Line2D at 0x226bef8a4f0>,\n",
       "  <matplotlib.lines.Line2D at 0x226bef8a880>],\n",
       " 'caps': [<matplotlib.lines.Line2D at 0x226bef8ac10>,\n",
       "  <matplotlib.lines.Line2D at 0x226bef8afa0>],\n",
       " 'boxes': [<matplotlib.lines.Line2D at 0x226bef8a130>],\n",
       " 'medians': [<matplotlib.lines.Line2D at 0x226bef94370>],\n",
       " 'fliers': [<matplotlib.lines.Line2D at 0x226bef94700>],\n",
       " 'means': []}"
      ]
     },
     "execution_count": 351,
     "metadata": {},
     "output_type": "execute_result"
    },
    {
     "data": {
      "image/png": "[encoded data removed]",
      "text/plain": [
       "<Figure size 432x288 with 1 Axes>"
      ]
     },
     "metadata": {
      "needs_background": "light"
     },
     "output_type": "display_data"
    }
   ],
   "source": [
    "plt.boxplot(a.c_wt)"
   ]
  },
  {
   "cell_type": "code",
   "execution_count": 352,
   "id": "34208ac2",
   "metadata": {},
   "outputs": [
    {
     "data": {
      "text/plain": [
       "(array([ 2., 29., 33., 50., 25., 23., 26.,  8.,  5.,  4.]),\n",
       " array([1488. , 1745.8, 2003.6, 2261.4, 2519.2, 2777. , 3034.8, 3292.6,\n",
       "        3550.4, 3808.2, 4066. ]),\n",
       " <BarContainer object of 10 artists>)"
      ]
     },
     "execution_count": 352,
     "metadata": {},
     "output_type": "execute_result"
    },
    {
     "data": {
      "image/png": "[encoded data removed]",
      "text/plain": [
       "<Figure size 432x288 with 1 Axes>"
      ]
     },
     "metadata": {
      "needs_background": "light"
     },
     "output_type": "display_data"
    }
   ],
   "source": [
    "plt.hist(a.c_wt)"
   ]
  },
  {
   "cell_type": "markdown",
   "id": "f98edf3e",
   "metadata": {},
   "source": [
    "<H1>Engine Type</H1>"
   ]
  },
  {
   "cell_type": "code",
   "execution_count": 353,
   "id": "cd50297d",
   "metadata": {},
   "outputs": [
    {
     "data": {
      "text/plain": [
       "ohc      148\n",
       "ohcf      15\n",
       "ohcv      13\n",
       "dohc      12\n",
       "l         12\n",
       "rotor      4\n",
       "dohcv      1\n",
       "Name: engine, dtype: int64"
      ]
     },
     "execution_count": 353,
     "metadata": {},
     "output_type": "execute_result"
    }
   ],
   "source": [
    "#Engine-Discrete Data\n",
    "a.engine.value_counts()"
   ]
  },
  {
   "cell_type": "code",
   "execution_count": 354,
   "id": "5612f85f",
   "metadata": {},
   "outputs": [
    {
     "data": {
      "text/plain": [
       "0"
      ]
     },
     "execution_count": 354,
     "metadata": {},
     "output_type": "execute_result"
    }
   ],
   "source": [
    "a.engine.isnull().sum()"
   ]
  },
  {
   "cell_type": "code",
   "execution_count": 355,
   "id": "832cdc70",
   "metadata": {},
   "outputs": [
    {
     "name": "stderr",
     "output_type": "stream",
     "text": [
      "C:\\Users\\SANJAY\\anaconda3\\lib\\site-packages\\seaborn\\_decorators.py:36: FutureWarning: Pass the following variable as a keyword arg: x. From version 0.12, the only valid positional argument will be `data`, and passing other arguments without an explicit keyword will result in an error or misinterpretation.\n",
      "  warnings.warn(\n"
     ]
    },
    {
     "data": {
      "text/plain": [
       "<AxesSubplot:xlabel='engine', ylabel='count'>"
      ]
     },
     "execution_count": 355,
     "metadata": {},
     "output_type": "execute_result"
    },
    {
     "data": {
      "image/png": "[encoded data removed]",
      "text/plain": [
       "<Figure size 432x288 with 1 Axes>"
      ]
     },
     "metadata": {
      "needs_background": "light"
     },
     "output_type": "display_data"
    }
   ],
   "source": [
    "sns.countplot(a.engine)"
   ]
  },
  {
   "cell_type": "code",
   "execution_count": 356,
   "id": "de071c52",
   "metadata": {},
   "outputs": [],
   "source": [
    "a.engine.replace(['dohc','ohcv','l','rotor','ohcf','dohcv'],['others','others','others','others','others','others'],inplace=True)"
   ]
  },
  {
   "cell_type": "code",
   "execution_count": 434,
   "id": "7ec9cb72",
   "metadata": {},
   "outputs": [
    {
     "data": {
      "text/plain": [
       "ohc       148\n",
       "others     57\n",
       "Name: engine, dtype: int64"
      ]
     },
     "execution_count": 434,
     "metadata": {},
     "output_type": "execute_result"
    }
   ],
   "source": [
    "a.engine.value_counts()"
   ]
  },
  {
   "cell_type": "code",
   "execution_count": 357,
   "id": "ec9112f2",
   "metadata": {},
   "outputs": [
    {
     "name": "stderr",
     "output_type": "stream",
     "text": [
      "C:\\Users\\SANJAY\\anaconda3\\lib\\site-packages\\seaborn\\_decorators.py:36: FutureWarning: Pass the following variable as a keyword arg: x. From version 0.12, the only valid positional argument will be `data`, and passing other arguments without an explicit keyword will result in an error or misinterpretation.\n",
      "  warnings.warn(\n"
     ]
    },
    {
     "data": {
      "text/plain": [
       "<AxesSubplot:xlabel='engine', ylabel='count'>"
      ]
     },
     "execution_count": 357,
     "metadata": {},
     "output_type": "execute_result"
    },
    {
     "data": {
      "image/png": "[encoded data removed]",
      "text/plain": [
       "<Figure size 432x288 with 1 Axes>"
      ]
     },
     "metadata": {
      "needs_background": "light"
     },
     "output_type": "display_data"
    }
   ],
   "source": [
    "sns.countplot(a.engine,order=['ohc','others'])"
   ]
  },
  {
   "cell_type": "markdown",
   "id": "bb37b3bc",
   "metadata": {},
   "source": [
    "<H1>Number of Cylinders</H1>"
   ]
  },
  {
   "cell_type": "code",
   "execution_count": 358,
   "id": "708ee12f",
   "metadata": {},
   "outputs": [
    {
     "data": {
      "text/plain": [
       "four      159\n",
       "six        24\n",
       "five       11\n",
       "eight       5\n",
       "two         4\n",
       "three       1\n",
       "twelve      1\n",
       "Name: cyl, dtype: int64"
      ]
     },
     "execution_count": 358,
     "metadata": {},
     "output_type": "execute_result"
    }
   ],
   "source": [
    "#Cyl-Discrete Data\n",
    "a.cyl.value_counts()"
   ]
  },
  {
   "cell_type": "code",
   "execution_count": 359,
   "id": "4ecc73ca",
   "metadata": {},
   "outputs": [
    {
     "data": {
      "text/plain": [
       "0"
      ]
     },
     "execution_count": 359,
     "metadata": {},
     "output_type": "execute_result"
    }
   ],
   "source": [
    "a.cyl.isnull().sum()"
   ]
  },
  {
   "cell_type": "code",
   "execution_count": 360,
   "id": "5fb52a75",
   "metadata": {},
   "outputs": [
    {
     "name": "stderr",
     "output_type": "stream",
     "text": [
      "C:\\Users\\SANJAY\\anaconda3\\lib\\site-packages\\seaborn\\_decorators.py:36: FutureWarning: Pass the following variable as a keyword arg: x. From version 0.12, the only valid positional argument will be `data`, and passing other arguments without an explicit keyword will result in an error or misinterpretation.\n",
      "  warnings.warn(\n"
     ]
    },
    {
     "data": {
      "text/plain": [
       "<AxesSubplot:xlabel='cyl', ylabel='count'>"
      ]
     },
     "execution_count": 360,
     "metadata": {},
     "output_type": "execute_result"
    },
    {
     "data": {
      "image/png": "[encoded data removed]",
      "text/plain": [
       "<Figure size 432x288 with 1 Axes>"
      ]
     },
     "metadata": {
      "needs_background": "light"
     },
     "output_type": "display_data"
    }
   ],
   "source": [
    "sns.countplot(a.cyl)"
   ]
  },
  {
   "cell_type": "code",
   "execution_count": 361,
   "id": "66882cee",
   "metadata": {},
   "outputs": [],
   "source": [
    "a.cyl.replace(['six','five','three','twelve','two','eight'],['others','others','others','others','others','others'],inplace=True)"
   ]
  },
  {
   "cell_type": "code",
   "execution_count": 435,
   "id": "204cf2c8",
   "metadata": {},
   "outputs": [
    {
     "data": {
      "text/plain": [
       "four      159\n",
       "others     46\n",
       "Name: cyl, dtype: int64"
      ]
     },
     "execution_count": 435,
     "metadata": {},
     "output_type": "execute_result"
    }
   ],
   "source": [
    "a.cyl.value_counts()"
   ]
  },
  {
   "cell_type": "code",
   "execution_count": 362,
   "id": "ef8851c8",
   "metadata": {},
   "outputs": [
    {
     "name": "stderr",
     "output_type": "stream",
     "text": [
      "C:\\Users\\SANJAY\\anaconda3\\lib\\site-packages\\seaborn\\_decorators.py:36: FutureWarning: Pass the following variable as a keyword arg: x. From version 0.12, the only valid positional argument will be `data`, and passing other arguments without an explicit keyword will result in an error or misinterpretation.\n",
      "  warnings.warn(\n"
     ]
    },
    {
     "data": {
      "text/plain": [
       "<AxesSubplot:xlabel='cyl', ylabel='count'>"
      ]
     },
     "execution_count": 362,
     "metadata": {},
     "output_type": "execute_result"
    },
    {
     "data": {
      "image/png": "[encoded data removed]",
      "text/plain": [
       "<Figure size 432x288 with 1 Axes>"
      ]
     },
     "metadata": {
      "needs_background": "light"
     },
     "output_type": "display_data"
    }
   ],
   "source": [
    "sns.countplot(a.cyl)"
   ]
  },
  {
   "cell_type": "markdown",
   "id": "0933a252",
   "metadata": {},
   "source": [
    "<H1>Engine Size</H1>"
   ]
  },
  {
   "cell_type": "code",
   "execution_count": 363,
   "id": "5c9e023c",
   "metadata": {},
   "outputs": [
    {
     "data": {
      "text/plain": [
       "0"
      ]
     },
     "execution_count": 363,
     "metadata": {},
     "output_type": "execute_result"
    }
   ],
   "source": [
    "a.engine_size.isnull().sum()"
   ]
  },
  {
   "cell_type": "code",
   "execution_count": 364,
   "id": "1bd275b4",
   "metadata": {},
   "outputs": [
    {
     "data": {
      "text/plain": [
       "ShapiroResult(statistic=0.8294388651847839, pvalue=3.0569154792128156e-14)"
      ]
     },
     "execution_count": 364,
     "metadata": {},
     "output_type": "execute_result"
    }
   ],
   "source": [
    "#Engine_Size-Continuous Data\n",
    "stats.shapiro(a.engine_size)\n"
   ]
  },
  {
   "cell_type": "code",
   "execution_count": 365,
   "id": "c3d280ff",
   "metadata": {},
   "outputs": [
    {
     "data": {
      "text/plain": [
       "{'whiskers': [<matplotlib.lines.Line2D at 0x226bf20b790>,\n",
       "  <matplotlib.lines.Line2D at 0x226bf20bb20>],\n",
       " 'caps': [<matplotlib.lines.Line2D at 0x226bf20bd60>,\n",
       "  <matplotlib.lines.Line2D at 0x226bf213100>],\n",
       " 'boxes': [<matplotlib.lines.Line2D at 0x226bf20b400>],\n",
       " 'medians': [<matplotlib.lines.Line2D at 0x226bf213490>],\n",
       " 'fliers': [<matplotlib.lines.Line2D at 0x226bf213820>],\n",
       " 'means': []}"
      ]
     },
     "execution_count": 365,
     "metadata": {},
     "output_type": "execute_result"
    },
    {
     "data": {
      "image/png": "[encoded data removed]",
      "text/plain": [
       "<Figure size 432x288 with 1 Axes>"
      ]
     },
     "metadata": {
      "needs_background": "light"
     },
     "output_type": "display_data"
    }
   ],
   "source": [
    "plt.boxplot(a.engine_size)"
   ]
  },
  {
   "cell_type": "code",
   "execution_count": 366,
   "id": "f073f8b4",
   "metadata": {},
   "outputs": [
    {
     "data": {
      "text/plain": [
       "(array([ 6., 95., 46., 30., 14.,  7.,  2.,  2.,  0.,  3.]),\n",
       " array([ 61. ,  87.5, 114. , 140.5, 167. , 193.5, 220. , 246.5, 273. ,\n",
       "        299.5, 326. ]),\n",
       " <BarContainer object of 10 artists>)"
      ]
     },
     "execution_count": 366,
     "metadata": {},
     "output_type": "execute_result"
    },
    {
     "data": {
      "image/png": "[encoded data removed]",
      "text/plain": [
       "<Figure size 432x288 with 1 Axes>"
      ]
     },
     "metadata": {
      "needs_background": "light"
     },
     "output_type": "display_data"
    }
   ],
   "source": [
    "plt.hist(a.engine_size)"
   ]
  },
  {
   "cell_type": "markdown",
   "id": "78b353ba",
   "metadata": {},
   "source": [
    "<H1>Fuel System</H1>"
   ]
  },
  {
   "cell_type": "code",
   "execution_count": 367,
   "id": "35c71043",
   "metadata": {},
   "outputs": [
    {
     "data": {
      "text/plain": [
       "mpfi    94\n",
       "2bbl    66\n",
       "idi     20\n",
       "1bbl    11\n",
       "spdi     9\n",
       "4bbl     3\n",
       "mfi      1\n",
       "spfi     1\n",
       "Name: sys, dtype: int64"
      ]
     },
     "execution_count": 367,
     "metadata": {},
     "output_type": "execute_result"
    }
   ],
   "source": [
    "#Sys-Discrete Data\n",
    "a.sys.value_counts()"
   ]
  },
  {
   "cell_type": "code",
   "execution_count": 368,
   "id": "35f5f378",
   "metadata": {},
   "outputs": [
    {
     "data": {
      "text/plain": [
       "0"
      ]
     },
     "execution_count": 368,
     "metadata": {},
     "output_type": "execute_result"
    }
   ],
   "source": [
    "a.sys.isnull().sum()"
   ]
  },
  {
   "cell_type": "code",
   "execution_count": 369,
   "id": "b95f2527",
   "metadata": {},
   "outputs": [
    {
     "name": "stderr",
     "output_type": "stream",
     "text": [
      "C:\\Users\\SANJAY\\anaconda3\\lib\\site-packages\\seaborn\\_decorators.py:36: FutureWarning: Pass the following variable as a keyword arg: x. From version 0.12, the only valid positional argument will be `data`, and passing other arguments without an explicit keyword will result in an error or misinterpretation.\n",
      "  warnings.warn(\n"
     ]
    },
    {
     "data": {
      "text/plain": [
       "<AxesSubplot:xlabel='sys', ylabel='count'>"
      ]
     },
     "execution_count": 369,
     "metadata": {},
     "output_type": "execute_result"
    },
    {
     "data": {
      "image/png": "[encoded data removed]",
      "text/plain": [
       "<Figure size 432x288 with 1 Axes>"
      ]
     },
     "metadata": {
      "needs_background": "light"
     },
     "output_type": "display_data"
    }
   ],
   "source": [
    "sns.countplot(a.sys)"
   ]
  },
  {
   "cell_type": "code",
   "execution_count": 370,
   "id": "27d66fee",
   "metadata": {},
   "outputs": [],
   "source": [
    "a.sys.replace(['mfi','1bbl','spfi','4bbl','spdi'],['others','others','others','others','others'],inplace=True)"
   ]
  },
  {
   "cell_type": "code",
   "execution_count": 436,
   "id": "2b46d4ff",
   "metadata": {},
   "outputs": [
    {
     "data": {
      "text/plain": [
       "mpfi      94\n",
       "2bbl      66\n",
       "others    25\n",
       "idi       20\n",
       "Name: sys, dtype: int64"
      ]
     },
     "execution_count": 436,
     "metadata": {},
     "output_type": "execute_result"
    }
   ],
   "source": [
    "a.sys.value_counts()"
   ]
  },
  {
   "cell_type": "code",
   "execution_count": 371,
   "id": "a62e3c62",
   "metadata": {},
   "outputs": [
    {
     "name": "stderr",
     "output_type": "stream",
     "text": [
      "C:\\Users\\SANJAY\\anaconda3\\lib\\site-packages\\seaborn\\_decorators.py:36: FutureWarning: Pass the following variable as a keyword arg: x. From version 0.12, the only valid positional argument will be `data`, and passing other arguments without an explicit keyword will result in an error or misinterpretation.\n",
      "  warnings.warn(\n"
     ]
    },
    {
     "data": {
      "text/plain": [
       "<AxesSubplot:xlabel='sys', ylabel='count'>"
      ]
     },
     "execution_count": 371,
     "metadata": {},
     "output_type": "execute_result"
    },
    {
     "data": {
      "image/png": "[encoded data removed]",
      "text/plain": [
       "<Figure size 432x288 with 1 Axes>"
      ]
     },
     "metadata": {
      "needs_background": "light"
     },
     "output_type": "display_data"
    }
   ],
   "source": [
    "sns.countplot(a.sys,order=['mpfi','2bbl','idi','others'])"
   ]
  },
  {
   "cell_type": "markdown",
   "id": "55634cf2",
   "metadata": {},
   "source": [
    "<H1>Bore</H1>"
   ]
  },
  {
   "cell_type": "code",
   "execution_count": 372,
   "id": "dc1d0511",
   "metadata": {},
   "outputs": [
    {
     "data": {
      "text/plain": [
       "4"
      ]
     },
     "execution_count": 372,
     "metadata": {},
     "output_type": "execute_result"
    }
   ],
   "source": [
    "a.bore.isnull().sum()"
   ]
  },
  {
   "cell_type": "code",
   "execution_count": 373,
   "id": "442bb8b4",
   "metadata": {},
   "outputs": [
    {
     "data": {
      "text/plain": [
       "array([3.47, 2.68, 3.19, 3.13, 3.5 , 3.31, 3.62, 2.91, 3.03, 2.97, 3.34,\n",
       "       3.6 , 2.92, 3.15, 3.43, 3.63, 3.54, 3.08,  nan, 3.39, 3.76, 3.58,\n",
       "       3.46, 3.8 , 3.78, 3.17, 3.35, 3.59, 2.99, 3.33, 3.7 , 3.61, 3.94,\n",
       "       3.74, 2.54, 3.05, 3.27, 3.24, 3.01])"
      ]
     },
     "execution_count": 373,
     "metadata": {},
     "output_type": "execute_result"
    }
   ],
   "source": [
    "a.bore.unique()"
   ]
  },
  {
   "cell_type": "code",
   "execution_count": 374,
   "id": "a3262d2d",
   "metadata": {},
   "outputs": [],
   "source": [
    "a.bore.fillna(3.329751,inplace=True)"
   ]
  },
  {
   "cell_type": "code",
   "execution_count": 375,
   "id": "c05fe63c",
   "metadata": {},
   "outputs": [
    {
     "data": {
      "text/plain": [
       "ShapiroResult(statistic=0.967185378074646, pvalue=0.00010421191109344363)"
      ]
     },
     "execution_count": 375,
     "metadata": {},
     "output_type": "execute_result"
    }
   ],
   "source": [
    "#Bore-Continuous Data\n",
    "stats.shapiro(a.bore)"
   ]
  },
  {
   "cell_type": "code",
   "execution_count": 376,
   "id": "babe28f7",
   "metadata": {},
   "outputs": [
    {
     "data": {
      "text/plain": [
       "{'whiskers': [<matplotlib.lines.Line2D at 0x226bf3aab20>,\n",
       "  <matplotlib.lines.Line2D at 0x226bf3aaeb0>],\n",
       " 'caps': [<matplotlib.lines.Line2D at 0x226bf3b7280>,\n",
       "  <matplotlib.lines.Line2D at 0x226bf3b7610>],\n",
       " 'boxes': [<matplotlib.lines.Line2D at 0x226bf3aa790>],\n",
       " 'medians': [<matplotlib.lines.Line2D at 0x226bf3b79a0>],\n",
       " 'fliers': [<matplotlib.lines.Line2D at 0x226bf3b7d30>],\n",
       " 'means': []}"
      ]
     },
     "execution_count": 376,
     "metadata": {},
     "output_type": "execute_result"
    },
    {
     "data": {
      "image/png": "[encoded data removed]",
      "text/plain": [
       "<Figure size 432x288 with 1 Axes>"
      ]
     },
     "metadata": {
      "needs_background": "light"
     },
     "output_type": "display_data"
    }
   ],
   "source": [
    "plt.boxplot(a.bore)"
   ]
  },
  {
   "cell_type": "code",
   "execution_count": 377,
   "id": "e08baeca",
   "metadata": {},
   "outputs": [
    {
     "data": {
      "text/plain": [
       "(array([ 1.,  1.,  8., 37., 40., 28., 27., 42., 17.,  4.]),\n",
       " array([2.54, 2.68, 2.82, 2.96, 3.1 , 3.24, 3.38, 3.52, 3.66, 3.8 , 3.94]),\n",
       " <BarContainer object of 10 artists>)"
      ]
     },
     "execution_count": 377,
     "metadata": {},
     "output_type": "execute_result"
    },
    {
     "data": {
      "image/png": "[encoded data removed]",
      "text/plain": [
       "<Figure size 432x288 with 1 Axes>"
      ]
     },
     "metadata": {
      "needs_background": "light"
     },
     "output_type": "display_data"
    }
   ],
   "source": [
    "plt.hist(a.bore)"
   ]
  },
  {
   "cell_type": "markdown",
   "id": "955f95f1",
   "metadata": {},
   "source": [
    "<H1>Stroke</H1>"
   ]
  },
  {
   "cell_type": "code",
   "execution_count": 378,
   "id": "63b99e02",
   "metadata": {},
   "outputs": [
    {
     "data": {
      "text/plain": [
       "4"
      ]
     },
     "execution_count": 378,
     "metadata": {},
     "output_type": "execute_result"
    }
   ],
   "source": [
    "a.str.isnull().sum()"
   ]
  },
  {
   "cell_type": "code",
   "execution_count": 379,
   "id": "aa692d91",
   "metadata": {},
   "outputs": [
    {
     "data": {
      "text/plain": [
       "array([2.68, 3.47, 3.4 , 2.8 , 3.19, 3.39, 3.03, 3.11, 3.23, 3.46, 3.9 ,\n",
       "       3.41, 3.07, 3.58, 4.17, 2.76, 3.15,  nan, 3.16, 3.64, 3.1 , 3.35,\n",
       "       3.12, 3.86, 3.29, 3.27, 3.52, 2.19, 3.21, 2.9 , 2.07, 2.36, 2.64,\n",
       "       3.08, 3.5 , 3.54, 2.87])"
      ]
     },
     "execution_count": 379,
     "metadata": {},
     "output_type": "execute_result"
    }
   ],
   "source": [
    "a.str.unique()"
   ]
  },
  {
   "cell_type": "code",
   "execution_count": 380,
   "id": "843dee33",
   "metadata": {},
   "outputs": [],
   "source": [
    "a.str.fillna(3.255423,inplace=True)"
   ]
  },
  {
   "cell_type": "code",
   "execution_count": 381,
   "id": "5e042595",
   "metadata": {},
   "outputs": [
    {
     "data": {
      "text/plain": [
       "ShapiroResult(statistic=0.9377973675727844, pvalue=1.0984009435333064e-07)"
      ]
     },
     "execution_count": 381,
     "metadata": {},
     "output_type": "execute_result"
    }
   ],
   "source": [
    "#Str.Continuous Data\n",
    "stats.shapiro(a.str)"
   ]
  },
  {
   "cell_type": "code",
   "execution_count": 382,
   "id": "81df9d42",
   "metadata": {},
   "outputs": [
    {
     "data": {
      "text/plain": [
       "{'whiskers': [<matplotlib.lines.Line2D at 0x226c0464dc0>,\n",
       "  <matplotlib.lines.Line2D at 0x226c0474190>],\n",
       " 'caps': [<matplotlib.lines.Line2D at 0x226c0474520>,\n",
       "  <matplotlib.lines.Line2D at 0x226c04748b0>],\n",
       " 'boxes': [<matplotlib.lines.Line2D at 0x226c0464a90>],\n",
       " 'medians': [<matplotlib.lines.Line2D at 0x226c0474c40>],\n",
       " 'fliers': [<matplotlib.lines.Line2D at 0x226c0474fd0>],\n",
       " 'means': []}"
      ]
     },
     "execution_count": 382,
     "metadata": {},
     "output_type": "execute_result"
    },
    {
     "data": {
      "image/png": "[encoded data removed]",
      "text/plain": [
       "<Figure size 432x288 with 1 Axes>"
      ]
     },
     "metadata": {
      "needs_background": "light"
     },
     "output_type": "display_data"
    }
   ],
   "source": [
    "plt.boxplot(a.str)"
   ]
  },
  {
   "cell_type": "code",
   "execution_count": 383,
   "id": "772388b2",
   "metadata": {},
   "outputs": [
    {
     "data": {
      "text/plain": [
       "(array([ 3.,  1., 13.,  7., 30., 56., 71., 15.,  7.,  2.]),\n",
       " array([2.07, 2.28, 2.49, 2.7 , 2.91, 3.12, 3.33, 3.54, 3.75, 3.96, 4.17]),\n",
       " <BarContainer object of 10 artists>)"
      ]
     },
     "execution_count": 383,
     "metadata": {},
     "output_type": "execute_result"
    },
    {
     "data": {
      "image/png": "[encoded data removed]",
      "text/plain": [
       "<Figure size 432x288 with 1 Axes>"
      ]
     },
     "metadata": {
      "needs_background": "light"
     },
     "output_type": "display_data"
    }
   ],
   "source": [
    "plt.hist(a.str)"
   ]
  },
  {
   "cell_type": "markdown",
   "id": "20dd5e84",
   "metadata": {},
   "source": [
    "<H1>Compression Ratio</H1>"
   ]
  },
  {
   "cell_type": "code",
   "execution_count": 384,
   "id": "35ebd3a8",
   "metadata": {},
   "outputs": [
    {
     "data": {
      "text/plain": [
       "0"
      ]
     },
     "execution_count": 384,
     "metadata": {},
     "output_type": "execute_result"
    }
   ],
   "source": [
    "a.com.isnull().sum()"
   ]
  },
  {
   "cell_type": "code",
   "execution_count": 385,
   "id": "bb93130f",
   "metadata": {},
   "outputs": [
    {
     "data": {
      "text/plain": [
       "ShapiroResult(statistic=0.49774158000946045, pvalue=8.12114079238121e-24)"
      ]
     },
     "execution_count": 385,
     "metadata": {},
     "output_type": "execute_result"
    }
   ],
   "source": [
    "#Com-Continuous Data\n",
    "stats.shapiro(a.com)"
   ]
  },
  {
   "cell_type": "code",
   "execution_count": 386,
   "id": "4fa8a63e",
   "metadata": {},
   "outputs": [
    {
     "data": {
      "text/plain": [
       "{'whiskers': [<matplotlib.lines.Line2D at 0x226c0549790>,\n",
       "  <matplotlib.lines.Line2D at 0x226c0549b20>],\n",
       " 'caps': [<matplotlib.lines.Line2D at 0x226c0549eb0>,\n",
       "  <matplotlib.lines.Line2D at 0x226c0554280>],\n",
       " 'boxes': [<matplotlib.lines.Line2D at 0x226c0549400>],\n",
       " 'medians': [<matplotlib.lines.Line2D at 0x226c0554610>],\n",
       " 'fliers': [<matplotlib.lines.Line2D at 0x226c05549a0>],\n",
       " 'means': []}"
      ]
     },
     "execution_count": 386,
     "metadata": {},
     "output_type": "execute_result"
    },
    {
     "data": {
      "image/png": "[encoded data removed]",
      "text/plain": [
       "<Figure size 432x288 with 1 Axes>"
      ]
     },
     "metadata": {
      "needs_background": "light"
     },
     "output_type": "display_data"
    }
   ],
   "source": [
    "plt.boxplot(a.com)"
   ]
  },
  {
   "cell_type": "code",
   "execution_count": 387,
   "id": "add341a1",
   "metadata": {},
   "outputs": [
    {
     "data": {
      "text/plain": [
       "(array([ 51., 133.,   1.,   0.,   0.,   0.,   0.,   0.,   5.,  15.]),\n",
       " array([ 7. ,  8.6, 10.2, 11.8, 13.4, 15. , 16.6, 18.2, 19.8, 21.4, 23. ]),\n",
       " <BarContainer object of 10 artists>)"
      ]
     },
     "execution_count": 387,
     "metadata": {},
     "output_type": "execute_result"
    },
    {
     "data": {
      "image/png": "[encoded data removed]",
      "text/plain": [
       "<Figure size 432x288 with 1 Axes>"
      ]
     },
     "metadata": {
      "needs_background": "light"
     },
     "output_type": "display_data"
    }
   ],
   "source": [
    "plt.hist(a.com)"
   ]
  },
  {
   "cell_type": "markdown",
   "id": "b0bbe26c",
   "metadata": {},
   "source": [
    "<H1>Horse Power</H1>"
   ]
  },
  {
   "cell_type": "code",
   "execution_count": 388,
   "id": "23541ddc",
   "metadata": {},
   "outputs": [
    {
     "data": {
      "text/plain": [
       "2"
      ]
     },
     "execution_count": 388,
     "metadata": {},
     "output_type": "execute_result"
    }
   ],
   "source": [
    "a.hp.isnull().sum()"
   ]
  },
  {
   "cell_type": "code",
   "execution_count": 389,
   "id": "366917b0",
   "metadata": {},
   "outputs": [
    {
     "data": {
      "text/plain": [
       "array([111., 154., 102., 115., 110., 140., 160., 101., 121., 182.,  48.,\n",
       "        70.,  68.,  88., 145.,  58.,  76.,  60.,  86., 100.,  78.,  90.,\n",
       "       176., 262., 135.,  84.,  64., 120.,  72., 123., 155., 184., 175.,\n",
       "       116.,  69.,  55.,  97., 152., 200.,  95., 142., 143., 207., 288.,\n",
       "        nan,  73.,  82.,  94.,  62.,  56., 112.,  92., 161., 156.,  52.,\n",
       "        85., 114., 162., 134., 106.])"
      ]
     },
     "execution_count": 389,
     "metadata": {},
     "output_type": "execute_result"
    }
   ],
   "source": [
    "a.hp.unique()"
   ]
  },
  {
   "cell_type": "code",
   "execution_count": 390,
   "id": "b01b77d2",
   "metadata": {},
   "outputs": [],
   "source": [
    "a.hp.fillna(104.256158,inplace=True)"
   ]
  },
  {
   "cell_type": "code",
   "execution_count": 391,
   "id": "925559c9",
   "metadata": {},
   "outputs": [
    {
     "data": {
      "text/plain": [
       "ShapiroResult(statistic=0.8850876688957214, pvalue=2.11449850684442e-11)"
      ]
     },
     "execution_count": 391,
     "metadata": {},
     "output_type": "execute_result"
    }
   ],
   "source": [
    "#Hp-Continuous Data\n",
    "stats.shapiro(a.hp)"
   ]
  },
  {
   "cell_type": "code",
   "execution_count": 392,
   "id": "bb5bf1ea",
   "metadata": {},
   "outputs": [
    {
     "data": {
      "text/plain": [
       "{'whiskers': [<matplotlib.lines.Line2D at 0x226c062ce20>,\n",
       "  <matplotlib.lines.Line2D at 0x226c063a1f0>],\n",
       " 'caps': [<matplotlib.lines.Line2D at 0x226c063a580>,\n",
       "  <matplotlib.lines.Line2D at 0x226c063a910>],\n",
       " 'boxes': [<matplotlib.lines.Line2D at 0x226c062ca90>],\n",
       " 'medians': [<matplotlib.lines.Line2D at 0x226c063aca0>],\n",
       " 'fliers': [<matplotlib.lines.Line2D at 0x226c0646070>],\n",
       " 'means': []}"
      ]
     },
     "execution_count": 392,
     "metadata": {},
     "output_type": "execute_result"
    },
    {
     "data": {
      "image/png": "[encoded data removed]",
      "text/plain": [
       "<Figure size 432x288 with 1 Axes>"
      ]
     },
     "metadata": {
      "needs_background": "light"
     },
     "output_type": "display_data"
    }
   ],
   "source": [
    "plt.boxplot(a.hp)"
   ]
  },
  {
   "cell_type": "code",
   "execution_count": 393,
   "id": "88a0694b",
   "metadata": {},
   "outputs": [
    {
     "data": {
      "text/plain": [
       "(array([55., 49., 51., 13., 23.,  8.,  4.,  0.,  1.,  1.]),\n",
       " array([ 48.,  72.,  96., 120., 144., 168., 192., 216., 240., 264., 288.]),\n",
       " <BarContainer object of 10 artists>)"
      ]
     },
     "execution_count": 393,
     "metadata": {},
     "output_type": "execute_result"
    },
    {
     "data": {
      "image/png": "[encoded data removed]",
      "text/plain": [
       "<Figure size 432x288 with 1 Axes>"
      ]
     },
     "metadata": {
      "needs_background": "light"
     },
     "output_type": "display_data"
    }
   ],
   "source": [
    "plt.hist(a.hp)"
   ]
  },
  {
   "cell_type": "markdown",
   "id": "563285ef",
   "metadata": {},
   "source": [
    "<H1>Peak RPM</H1>"
   ]
  },
  {
   "cell_type": "code",
   "execution_count": 394,
   "id": "9c345cd9",
   "metadata": {},
   "outputs": [
    {
     "data": {
      "text/plain": [
       "2"
      ]
     },
     "execution_count": 394,
     "metadata": {},
     "output_type": "execute_result"
    }
   ],
   "source": [
    "a.rpm.isnull().sum()"
   ]
  },
  {
   "cell_type": "code",
   "execution_count": 395,
   "id": "c0833367",
   "metadata": {},
   "outputs": [
    {
     "data": {
      "text/plain": [
       "array([5000., 5500., 5800., 4250., 5400., 5100., 4800., 6000., 4750.,\n",
       "       4650., 4200., 4350., 4500., 5200., 4150., 5600., 5900., 5750.,\n",
       "         nan, 5250., 4900., 4400., 6600., 5300.])"
      ]
     },
     "execution_count": 395,
     "metadata": {},
     "output_type": "execute_result"
    }
   ],
   "source": [
    "a.rpm.unique()"
   ]
  },
  {
   "cell_type": "code",
   "execution_count": 396,
   "id": "4bd74d0e",
   "metadata": {},
   "outputs": [],
   "source": [
    "a.rpm.fillna(5125.369458,inplace=True)"
   ]
  },
  {
   "cell_type": "code",
   "execution_count": 397,
   "id": "b3bc1e41",
   "metadata": {},
   "outputs": [
    {
     "data": {
      "text/plain": [
       "ShapiroResult(statistic=0.9705138802528381, pvalue=0.000267903262283653)"
      ]
     },
     "execution_count": 397,
     "metadata": {},
     "output_type": "execute_result"
    }
   ],
   "source": [
    "#Rpm-Continuous Data\n",
    "stats.shapiro(a.rpm)"
   ]
  },
  {
   "cell_type": "code",
   "execution_count": 398,
   "id": "465dc2a3",
   "metadata": {},
   "outputs": [
    {
     "data": {
      "text/plain": [
       "{'whiskers': [<matplotlib.lines.Line2D at 0x226c0707c70>,\n",
       "  <matplotlib.lines.Line2D at 0x226c0716040>],\n",
       " 'caps': [<matplotlib.lines.Line2D at 0x226c07163d0>,\n",
       "  <matplotlib.lines.Line2D at 0x226c0716760>],\n",
       " 'boxes': [<matplotlib.lines.Line2D at 0x226c07078e0>],\n",
       " 'medians': [<matplotlib.lines.Line2D at 0x226c0716b20>],\n",
       " 'fliers': [<matplotlib.lines.Line2D at 0x226c0716eb0>],\n",
       " 'means': []}"
      ]
     },
     "execution_count": 398,
     "metadata": {},
     "output_type": "execute_result"
    },
    {
     "data": {
      "image/png": "[encoded data removed]",
      "text/plain": [
       "<Figure size 432x288 with 1 Axes>"
      ]
     },
     "metadata": {
      "needs_background": "light"
     },
     "output_type": "display_data"
    }
   ],
   "source": [
    "plt.boxplot(a.rpm)"
   ]
  },
  {
   "cell_type": "code",
   "execution_count": 399,
   "id": "39a93d01",
   "metadata": {},
   "outputs": [
    {
     "data": {
      "text/plain": [
       "(array([17., 10., 41., 33., 31., 51.,  8., 12.,  0.,  2.]),\n",
       " array([4150., 4395., 4640., 4885., 5130., 5375., 5620., 5865., 6110.,\n",
       "        6355., 6600.]),\n",
       " <BarContainer object of 10 artists>)"
      ]
     },
     "execution_count": 399,
     "metadata": {},
     "output_type": "execute_result"
    },
    {
     "data": {
      "image/png": "[encoded data removed]",
      "text/plain": [
       "<Figure size 432x288 with 1 Axes>"
      ]
     },
     "metadata": {
      "needs_background": "light"
     },
     "output_type": "display_data"
    }
   ],
   "source": [
    "plt.hist(a.rpm)"
   ]
  },
  {
   "cell_type": "markdown",
   "id": "d9684876",
   "metadata": {},
   "source": [
    "<H1>City MPG</H1>"
   ]
  },
  {
   "cell_type": "code",
   "execution_count": 400,
   "id": "3d4c76ba",
   "metadata": {},
   "outputs": [
    {
     "data": {
      "text/plain": [
       "0"
      ]
     },
     "execution_count": 400,
     "metadata": {},
     "output_type": "execute_result"
    }
   ],
   "source": [
    "a.c_mpg.isnull().sum()"
   ]
  },
  {
   "cell_type": "code",
   "execution_count": 401,
   "id": "327594aa",
   "metadata": {},
   "outputs": [
    {
     "data": {
      "text/plain": [
       "ShapiroResult(statistic=0.9572238922119141, pvalue=7.825866305211093e-06)"
      ]
     },
     "execution_count": 401,
     "metadata": {},
     "output_type": "execute_result"
    }
   ],
   "source": [
    "#C_mpg-Continuous Data\n",
    "stats.shapiro(a.c_mpg)"
   ]
  },
  {
   "cell_type": "code",
   "execution_count": 402,
   "id": "00c31daa",
   "metadata": {},
   "outputs": [
    {
     "data": {
      "text/plain": [
       "{'whiskers': [<matplotlib.lines.Line2D at 0x226c07db9a0>,\n",
       "  <matplotlib.lines.Line2D at 0x226c07dbd30>],\n",
       " 'caps': [<matplotlib.lines.Line2D at 0x226c07e9100>,\n",
       "  <matplotlib.lines.Line2D at 0x226c07e9490>],\n",
       " 'boxes': [<matplotlib.lines.Line2D at 0x226c07d05b0>],\n",
       " 'medians': [<matplotlib.lines.Line2D at 0x226c07e9820>],\n",
       " 'fliers': [<matplotlib.lines.Line2D at 0x226c07e9bb0>],\n",
       " 'means': []}"
      ]
     },
     "execution_count": 402,
     "metadata": {},
     "output_type": "execute_result"
    },
    {
     "data": {
      "image/png": "[encoded data removed]",
      "text/plain": [
       "<Figure size 432x288 with 1 Axes>"
      ]
     },
     "metadata": {
      "needs_background": "light"
     },
     "output_type": "display_data"
    }
   ],
   "source": [
    "plt.boxplot(a.c_mpg)"
   ]
  },
  {
   "cell_type": "code",
   "execution_count": 403,
   "id": "c42e400a",
   "metadata": {},
   "outputs": [
    {
     "data": {
      "text/plain": [
       "(array([12., 46., 24., 56., 18., 31., 15.,  0.,  1.,  2.]),\n",
       " array([13. , 16.6, 20.2, 23.8, 27.4, 31. , 34.6, 38.2, 41.8, 45.4, 49. ]),\n",
       " <BarContainer object of 10 artists>)"
      ]
     },
     "execution_count": 403,
     "metadata": {},
     "output_type": "execute_result"
    },
    {
     "data": {
      "image/png": "[encoded data removed]",
      "text/plain": [
       "<Figure size 432x288 with 1 Axes>"
      ]
     },
     "metadata": {
      "needs_background": "light"
     },
     "output_type": "display_data"
    }
   ],
   "source": [
    "plt.hist(a.c_mpg)"
   ]
  },
  {
   "cell_type": "markdown",
   "id": "85e6c062",
   "metadata": {},
   "source": [
    "<H1>Highway MPG</H1>"
   ]
  },
  {
   "cell_type": "code",
   "execution_count": 404,
   "id": "23823a04",
   "metadata": {},
   "outputs": [
    {
     "data": {
      "text/plain": [
       "0"
      ]
     },
     "execution_count": 404,
     "metadata": {},
     "output_type": "execute_result"
    }
   ],
   "source": [
    "a.h_mpg.isnull().sum()"
   ]
  },
  {
   "cell_type": "code",
   "execution_count": 405,
   "id": "cfa92b13",
   "metadata": {},
   "outputs": [
    {
     "data": {
      "text/plain": [
       "ShapiroResult(statistic=0.9735103845596313, pvalue=0.0006515368004329503)"
      ]
     },
     "execution_count": 405,
     "metadata": {},
     "output_type": "execute_result"
    }
   ],
   "source": [
    "#H_mpg-Continuous Data\n",
    "stats.shapiro(a.h_mpg)"
   ]
  },
  {
   "cell_type": "code",
   "execution_count": 406,
   "id": "eb84358a",
   "metadata": {},
   "outputs": [
    {
     "data": {
      "text/plain": [
       "{'whiskers': [<matplotlib.lines.Line2D at 0x226c08c3a60>,\n",
       "  <matplotlib.lines.Line2D at 0x226c08c3df0>],\n",
       " 'caps': [<matplotlib.lines.Line2D at 0x226c08d11c0>,\n",
       "  <matplotlib.lines.Line2D at 0x226c08d1550>],\n",
       " 'boxes': [<matplotlib.lines.Line2D at 0x226c08c36d0>],\n",
       " 'medians': [<matplotlib.lines.Line2D at 0x226c08d18e0>],\n",
       " 'fliers': [<matplotlib.lines.Line2D at 0x226c08d1c70>],\n",
       " 'means': []}"
      ]
     },
     "execution_count": 406,
     "metadata": {},
     "output_type": "execute_result"
    },
    {
     "data": {
      "image/png": "[encoded data removed]",
      "text/plain": [
       "<Figure size 432x288 with 1 Axes>"
      ]
     },
     "metadata": {
      "needs_background": "light"
     },
     "output_type": "display_data"
    }
   ],
   "source": [
    "plt.boxplot(a.h_mpg)"
   ]
  },
  {
   "cell_type": "code",
   "execution_count": 407,
   "id": "f23341ca",
   "metadata": {},
   "outputs": [
    {
     "data": {
      "text/plain": [
       "(array([ 7., 17., 44., 47., 39., 32.,  8.,  6.,  3.,  2.]),\n",
       " array([16. , 19.8, 23.6, 27.4, 31.2, 35. , 38.8, 42.6, 46.4, 50.2, 54. ]),\n",
       " <BarContainer object of 10 artists>)"
      ]
     },
     "execution_count": 407,
     "metadata": {},
     "output_type": "execute_result"
    },
    {
     "data": {
      "image/png": "[encoded data removed]",
      "text/plain": [
       "<Figure size 432x288 with 1 Axes>"
      ]
     },
     "metadata": {
      "needs_background": "light"
     },
     "output_type": "display_data"
    }
   ],
   "source": [
    "plt.hist(a.h_mpg)"
   ]
  },
  {
   "cell_type": "markdown",
   "id": "c68a66a6",
   "metadata": {},
   "source": [
    "<H1>Price</H1>"
   ]
  },
  {
   "cell_type": "code",
   "execution_count": 408,
   "id": "5d506def",
   "metadata": {},
   "outputs": [
    {
     "data": {
      "text/plain": [
       "4"
      ]
     },
     "execution_count": 408,
     "metadata": {},
     "output_type": "execute_result"
    }
   ],
   "source": [
    "a.price.isnull().sum()"
   ]
  },
  {
   "cell_type": "code",
   "execution_count": 409,
   "id": "14843996",
   "metadata": {},
   "outputs": [
    {
     "data": {
      "text/plain": [
       "array([13495., 16500., 13950., 17450., 15250., 17710., 18920., 23875.,\n",
       "          nan, 16430., 16925., 20970., 21105., 24565., 30760., 41315.,\n",
       "       36880.,  5151.,  6295.,  6575.,  5572.,  6377.,  7957.,  6229.,\n",
       "        6692.,  7609.,  8558.,  8921., 12964.,  6479.,  6855.,  5399.,\n",
       "        6529.,  7129.,  7295.,  7895.,  9095.,  8845., 10295., 12945.,\n",
       "       10345.,  6785., 11048., 32250., 35550., 36000.,  5195.,  6095.,\n",
       "        6795.,  6695.,  7395., 10945., 11845., 13645., 15645.,  8495.,\n",
       "       10595., 10245., 10795., 11245., 18280., 18344., 25552., 28248.,\n",
       "       28176., 31600., 34184., 35056., 40960., 45400., 16503.,  5389.,\n",
       "        6189.,  6669.,  7689.,  9959.,  8499., 12629., 14869., 14489.,\n",
       "        6989.,  8189.,  9279.,  5499.,  7099.,  6649.,  6849.,  7349.,\n",
       "        7299.,  7799.,  7499.,  7999.,  8249.,  8949.,  9549., 13499.,\n",
       "       14399., 17199., 19699., 18399., 11900., 13200., 12440., 13860.,\n",
       "       15580., 16900., 16695., 17075., 16630., 17950., 18150., 12764.,\n",
       "       22018., 32528., 34028., 37028.,  9295.,  9895., 11850., 12170.,\n",
       "       15040., 15510., 18620.,  5118.,  7053.,  7603.,  7126.,  7775.,\n",
       "        9960.,  9233., 11259.,  7463., 10198.,  8013., 11694.,  5348.,\n",
       "        6338.,  6488.,  6918.,  7898.,  8778.,  6938.,  7198.,  7788.,\n",
       "        7738.,  8358.,  9258.,  8058.,  8238.,  9298.,  9538.,  8449.,\n",
       "        9639.,  9989., 11199., 11549., 17669.,  8948., 10698.,  9988.,\n",
       "       10898., 11248., 16558., 15998., 15690., 15750.,  7975.,  7995.,\n",
       "        8195.,  9495.,  9995., 11595.,  9980., 13295., 13845., 12290.,\n",
       "       12940., 13415., 15985., 16515., 18420., 18950., 16845., 19045.,\n",
       "       21485., 22470., 22625.])"
      ]
     },
     "execution_count": 409,
     "metadata": {},
     "output_type": "execute_result"
    }
   ],
   "source": [
    "a.price.unique()"
   ]
  },
  {
   "cell_type": "code",
   "execution_count": 410,
   "id": "4d035f62",
   "metadata": {},
   "outputs": [],
   "source": [
    "a.price.fillna(13207.129353,inplace=True)"
   ]
  },
  {
   "cell_type": "code",
   "execution_count": 411,
   "id": "b9fd0929",
   "metadata": {},
   "outputs": [
    {
     "data": {
      "text/plain": [
       "ShapiroResult(statistic=0.7997004985809326, pvalue=1.691838515494677e-15)"
      ]
     },
     "execution_count": 411,
     "metadata": {},
     "output_type": "execute_result"
    }
   ],
   "source": [
    "#Price-Continuous Data\n",
    "stats.shapiro(a.price)"
   ]
  },
  {
   "cell_type": "code",
   "execution_count": 412,
   "id": "77f394e1",
   "metadata": {},
   "outputs": [
    {
     "data": {
      "text/plain": [
       "{'whiskers': [<matplotlib.lines.Line2D at 0x226c09b8130>,\n",
       "  <matplotlib.lines.Line2D at 0x226c09b84c0>],\n",
       " 'caps': [<matplotlib.lines.Line2D at 0x226c09b8850>,\n",
       "  <matplotlib.lines.Line2D at 0x226c09b8be0>],\n",
       " 'boxes': [<matplotlib.lines.Line2D at 0x226c09a7d60>],\n",
       " 'medians': [<matplotlib.lines.Line2D at 0x226c09b8f70>],\n",
       " 'fliers': [<matplotlib.lines.Line2D at 0x226c09c3340>],\n",
       " 'means': []}"
      ]
     },
     "execution_count": 412,
     "metadata": {},
     "output_type": "execute_result"
    },
    {
     "data": {
      "image/png": "[encoded data removed]",
      "text/plain": [
       "<Figure size 432x288 with 1 Axes>"
      ]
     },
     "metadata": {
      "needs_background": "light"
     },
     "output_type": "display_data"
    }
   ],
   "source": [
    "plt.boxplot(a.price)"
   ]
  },
  {
   "cell_type": "code",
   "execution_count": 413,
   "id": "69dd8631",
   "metadata": {},
   "outputs": [
    {
     "data": {
      "text/plain": [
       "(array([81., 45., 39., 17.,  6.,  3.,  4.,  7.,  2.,  1.]),\n",
       " array([ 5118. ,  9146.2, 13174.4, 17202.6, 21230.8, 25259. , 29287.2,\n",
       "        33315.4, 37343.6, 41371.8, 45400. ]),\n",
       " <BarContainer object of 10 artists>)"
      ]
     },
     "execution_count": 413,
     "metadata": {},
     "output_type": "execute_result"
    },
    {
     "data": {
      "image/png": "[encoded data removed]",
      "text/plain": [
       "<Figure size 432x288 with 1 Axes>"
      ]
     },
     "metadata": {
      "needs_background": "light"
     },
     "output_type": "display_data"
    }
   ],
   "source": [
    "plt.hist(a.price)"
   ]
  },
  {
   "cell_type": "markdown",
   "id": "ab02f0c5",
   "metadata": {},
   "source": [
    "<H1>STRENGTH TEST</H1>"
   ]
  },
  {
   "cell_type": "code",
   "execution_count": 416,
   "id": "7f709da1",
   "metadata": {},
   "outputs": [
    {
     "name": "stdout",
     "output_type": "stream",
     "text": [
      "(0.13399873429274337, 0.05543057826318259)\n"
     ]
    }
   ],
   "source": [
    "strength=stats.pearsonr(a.loss,a.price)\n",
    "print(strength)\n",
    "#Weak Positive"
   ]
  },
  {
   "cell_type": "code",
   "execution_count": 417,
   "id": "9d3cde49",
   "metadata": {},
   "outputs": [
    {
     "name": "stdout",
     "output_type": "stream",
     "text": [
      "(0.5831681499791512, 4.5276255455256544e-20)\n"
     ]
    }
   ],
   "source": [
    "strength=stats.pearsonr(a.base,a.price)\n",
    "print(strength)\n",
    "#Weak Positive"
   ]
  },
  {
   "cell_type": "code",
   "execution_count": 418,
   "id": "34f9a283",
   "metadata": {},
   "outputs": [
    {
     "name": "stdout",
     "output_type": "stream",
     "text": [
      "(0.6829862954389819, 1.649887328966592e-29)\n"
     ]
    }
   ],
   "source": [
    "strength=stats.pearsonr(a.len,a.price)\n",
    "print(strength)\n",
    "#Moderate Positive"
   ]
  },
  {
   "cell_type": "code",
   "execution_count": 419,
   "id": "73d1e92a",
   "metadata": {},
   "outputs": [
    {
     "name": "stdout",
     "output_type": "stream",
     "text": [
      "(0.7286988175929279, 3.214520484065366e-35)\n"
     ]
    }
   ],
   "source": [
    "strength=stats.pearsonr(a.wid,a.price)\n",
    "print(strength)\n",
    "#Moderate Positive"
   ]
  },
  {
   "cell_type": "code",
   "execution_count": 420,
   "id": "c48bee5f",
   "metadata": {},
   "outputs": [
    {
     "name": "stdout",
     "output_type": "stream",
     "text": [
      "(0.13438751871101878, 0.05471982048333642)\n"
     ]
    }
   ],
   "source": [
    "strength=stats.pearsonr(a.ht,a.price)\n",
    "print(strength)\n",
    "#Weak Positive"
   ]
  },
  {
   "cell_type": "code",
   "execution_count": 421,
   "id": "636051e8",
   "metadata": {},
   "outputs": [
    {
     "name": "stdout",
     "output_type": "stream",
     "text": [
      "(0.8208247333547347, 2.8663321070187436e-51)\n"
     ]
    }
   ],
   "source": [
    "strength=stats.pearsonr(a.c_wt,a.price)\n",
    "print(strength)\n",
    "#Moderate Positive"
   ]
  },
  {
   "cell_type": "code",
   "execution_count": 425,
   "id": "fe406bb6",
   "metadata": {},
   "outputs": [
    {
     "name": "stdout",
     "output_type": "stream",
     "text": [
      "(0.8617522436859498, 9.669661923782083e-62)\n"
     ]
    }
   ],
   "source": [
    "strength=stats.pearsonr(a.engine_size,a.price)\n",
    "print(strength)\n",
    "#Moderate Positive"
   ]
  },
  {
   "cell_type": "code",
   "execution_count": 426,
   "id": "322a389b",
   "metadata": {},
   "outputs": [
    {
     "name": "stdout",
     "output_type": "stream",
     "text": [
      "(0.5323000199585453, 2.1398305142063517e-16)\n"
     ]
    }
   ],
   "source": [
    "strength=stats.pearsonr(a.bore,a.price)\n",
    "print(strength)\n",
    "#Weak Positive"
   ]
  },
  {
   "cell_type": "code",
   "execution_count": 427,
   "id": "a1ac9513",
   "metadata": {},
   "outputs": [
    {
     "name": "stdout",
     "output_type": "stream",
     "text": [
      "(0.08209529537133145, 0.24191456955577154)\n"
     ]
    }
   ],
   "source": [
    "strength=stats.pearsonr(a.str,a.price)\n",
    "print(strength)\n",
    "#Weak Positive"
   ]
  },
  {
   "cell_type": "code",
   "execution_count": 428,
   "id": "bf6ca4e3",
   "metadata": {},
   "outputs": [
    {
     "name": "stdout",
     "output_type": "stream",
     "text": [
      "(0.0709903627791758, 0.31178249194796)\n"
     ]
    }
   ],
   "source": [
    "strength=stats.pearsonr(a.com,a.price)\n",
    "print(strength)\n",
    "#Weak Positive"
   ]
  },
  {
   "cell_type": "code",
   "execution_count": 429,
   "id": "8bf6d7c3",
   "metadata": {},
   "outputs": [
    {
     "name": "stdout",
     "output_type": "stream",
     "text": [
      "(0.7579169537076744, 1.6076704223961165e-39)\n"
     ]
    }
   ],
   "source": [
    "strength=stats.pearsonr(a.hp,a.price)\n",
    "print(strength)\n",
    "#Moderate Positive"
   ]
  },
  {
   "cell_type": "code",
   "execution_count": 430,
   "id": "b3d93771",
   "metadata": {},
   "outputs": [
    {
     "name": "stdout",
     "output_type": "stream",
     "text": [
      "(-0.10085406591095528, 0.15019246954531384)\n"
     ]
    }
   ],
   "source": [
    "strength=stats.pearsonr(a.rpm,a.price)\n",
    "print(strength)\n",
    "#Weak Negative"
   ]
  },
  {
   "cell_type": "code",
   "execution_count": 431,
   "id": "4e804602",
   "metadata": {},
   "outputs": [
    {
     "name": "stdout",
     "output_type": "stream",
     "text": [
      "(-0.6674492651601812, 8.463700497351642e-28)\n"
     ]
    }
   ],
   "source": [
    "strength=stats.pearsonr(a.c_mpg,a.price)\n",
    "print(strength)\n",
    "#Weak Negative"
   ]
  },
  {
   "cell_type": "code",
   "execution_count": 432,
   "id": "24a11d14",
   "metadata": {},
   "outputs": [
    {
     "name": "stdout",
     "output_type": "stream",
     "text": [
      "(-0.6905257341186237, 2.2324674056721096e-30)\n"
     ]
    }
   ],
   "source": [
    "strength=stats.pearsonr(a.h_mpg,a.price)\n",
    "print(strength)\n",
    "#Weak Negative"
   ]
  },
  {
   "cell_type": "markdown",
   "id": "3baa6731",
   "metadata": {},
   "source": [
    "<H1>HYPOTHESIS TEST</H1>"
   ]
  },
  {
   "cell_type": "markdown",
   "id": "732446fa",
   "metadata": {},
   "source": [
    "<H1>Price vs Symboling</H1>"
   ]
  },
  {
   "cell_type": "code",
   "execution_count": 437,
   "id": "82653025",
   "metadata": {},
   "outputs": [
    {
     "data": {
      "text/plain": [
       "F_onewayResult(statistic=8.596939059375929, pvalue=2.0165673442839212e-06)"
      ]
     },
     "execution_count": 437,
     "metadata": {},
     "output_type": "execute_result"
    }
   ],
   "source": [
    "sym1=a.price[a.sym=='less than zero']\n",
    "sym2=a.price[a.sym==0]\n",
    "sym3=a.price[a.sym==1]\n",
    "sym4=a.price[a.sym==2]\n",
    "sym5=a.price[a.sym==3]\n",
    "stats.f_oneway(sym1,sym2,sym3,sym4,sym5)"
   ]
  },
  {
   "cell_type": "markdown",
   "id": "c442208f",
   "metadata": {},
   "source": [
    "<H1>Price vs Make</H1>"
   ]
  },
  {
   "cell_type": "code",
   "execution_count": 199,
   "id": "4b7969b1",
   "metadata": {},
   "outputs": [
    {
     "data": {
      "text/plain": [
       "F_onewayResult(statistic=29.502215510941898, pvalue=1.019817853452345e-47)"
      ]
     },
     "execution_count": 199,
     "metadata": {},
     "output_type": "execute_result"
    }
   ],
   "source": [
    "make1=a.price[a.make==\"toyota\"]\n",
    "make2=a.price[a.make==\"nissan\"]\n",
    "make3=a.price[a.make==\"mazda\"]\n",
    "make4=a.price[a.make==\"mitsubishi\"]\n",
    "make5=a.price[a.make==\"honda\"]\n",
    "make6=a.price[a.make==\"volkswagen\"]\n",
    "make7=a.price[a.make==\"subaru\"]\n",
    "make8=a.price[a.make==\"peugot\"]\n",
    "make9=a.price[a.make==\"volvo\"]\n",
    "make10=a.price[a.make==\"dodge\"]\n",
    "make11=a.price[a.make==\"mercedes-benz\"]\n",
    "make12=a.price[a.make==\"bmw\"]\n",
    "make13=a.price[a.make==\"audi\"]\n",
    "make14=a.price[a.make==\"plymouth\"]\n",
    "make15=a.price[a.make==\"saab\"]\n",
    "make16=a.price[a.make==\"porsche\"]\n",
    "make17=a.price[a.make==\"isuzu\"]\n",
    "make18=a.price[a.make==\"jaguar\"]\n",
    "make19=a.price[a.make==\"chevrolet\"]\n",
    "make20=a.price[a.make==\"alfa-romero\"]\n",
    "make21=a.price[a.make==\"renault\"]\n",
    "make22=a.price[a.make==\"mercury\"]\n",
    "stats.f_oneway(make1,make2,make3,make4,make5,make6,make7,make8,make9,make10,make11,make12,make13,make14,make15,make16,make17,make18,make19,make20,make21,make22)"
   ]
  },
  {
   "cell_type": "markdown",
   "id": "922f50bd",
   "metadata": {},
   "source": [
    "<H1>Price vs Fuel Type</H1>"
   ]
  },
  {
   "cell_type": "code",
   "execution_count": 438,
   "id": "d7dd2147",
   "metadata": {},
   "outputs": [
    {
     "data": {
      "text/plain": [
       "F_onewayResult(statistic=2.4958589760769563, pvalue=0.11570297526298147)"
      ]
     },
     "execution_count": 438,
     "metadata": {},
     "output_type": "execute_result"
    }
   ],
   "source": [
    "fuel1=a.price[a.fuel=='diesel']\n",
    "fuel2=a.price[a.fuel=='gas']\n",
    "stats.f_oneway(fuel1,fuel2)"
   ]
  },
  {
   "cell_type": "markdown",
   "id": "d940d0af",
   "metadata": {},
   "source": [
    "<H1>Price vs Aspiration</H1>"
   ]
  },
  {
   "cell_type": "code",
   "execution_count": 439,
   "id": "4f23fb59",
   "metadata": {},
   "outputs": [
    {
     "data": {
      "text/plain": [
       "F_onewayResult(statistic=6.587289855132936, pvalue=0.010991046478680874)"
      ]
     },
     "execution_count": 439,
     "metadata": {},
     "output_type": "execute_result"
    }
   ],
   "source": [
    "asp1=a.price[a.asp==\"std\"]\n",
    "asp2=a.price[a.asp==\"turbo\"]\n",
    "stats.f_oneway(asp1,asp2)"
   ]
  },
  {
   "cell_type": "markdown",
   "id": "d72bca01",
   "metadata": {},
   "source": [
    "<H1>Price vs Number of Doors</H1>"
   ]
  },
  {
   "cell_type": "code",
   "execution_count": 440,
   "id": "b61821c1",
   "metadata": {},
   "outputs": [
    {
     "data": {
      "text/plain": [
       "F_onewayResult(statistic=0.42717100936888064, pvalue=0.5141273489168228)"
      ]
     },
     "execution_count": 440,
     "metadata": {},
     "output_type": "execute_result"
    }
   ],
   "source": [
    "door1=a.price[a.door==\"two\"]\n",
    "door2=a.price[a.door==\"four\"]\n",
    "stats.f_oneway(door1,door2)"
   ]
  },
  {
   "cell_type": "markdown",
   "id": "23af0a5e",
   "metadata": {},
   "source": [
    "<H1>Price vs Body Styles</H1>"
   ]
  },
  {
   "cell_type": "code",
   "execution_count": 441,
   "id": "9152e7ef",
   "metadata": {},
   "outputs": [
    {
     "data": {
      "text/plain": [
       "F_onewayResult(statistic=9.183927252583393, pvalue=7.844575720804091e-07)"
      ]
     },
     "execution_count": 441,
     "metadata": {},
     "output_type": "execute_result"
    }
   ],
   "source": [
    "body1=a.price[a.body==\"convertible\"]\n",
    "body2=a.price[a.body==\"hatchback\"]\n",
    "body3=a.price[a.body==\"sedan\"]\n",
    "body4=a.price[a.body==\"wagon\"]\n",
    "body5=a.price[a.body==\"hardtop\"]\n",
    "stats.f_oneway(body1,body2,body3,body4,body5)"
   ]
  },
  {
   "cell_type": "markdown",
   "id": "ef23efbb",
   "metadata": {},
   "source": [
    "<H1>Price vs Drive Wheels</H1>"
   ]
  },
  {
   "cell_type": "code",
   "execution_count": 201,
   "id": "e3dbf184",
   "metadata": {},
   "outputs": [
    {
     "data": {
      "text/plain": [
       "F_onewayResult(statistic=67.50366682673254, pvalue=3.53927079151706e-23)"
      ]
     },
     "execution_count": 201,
     "metadata": {},
     "output_type": "execute_result"
    }
   ],
   "source": [
    "wheel1=a.price[a.wheel==\"fwd\"]\n",
    "wheel2=a.price[a.wheel==\"rwd\"]\n",
    "wheel3=a.price[a.wheel==\"4wd\"]\n",
    "stats.f_oneway(wheel1,wheel2,wheel3)"
   ]
  },
  {
   "cell_type": "markdown",
   "id": "8e6b58a1",
   "metadata": {},
   "source": [
    "<H1>Price vs Engine Location</H1>"
   ]
  },
  {
   "cell_type": "code",
   "execution_count": 442,
   "id": "f2816409",
   "metadata": {},
   "outputs": [
    {
     "data": {
      "text/plain": [
       "F_onewayResult(statistic=24.979629190458926, pvalue=1.2486063656753427e-06)"
      ]
     },
     "execution_count": 442,
     "metadata": {},
     "output_type": "execute_result"
    }
   ],
   "source": [
    "location1=a.price[a.location==\"front\"]\n",
    "location2=a.price[a.location==\"rear\"]\n",
    "stats.f_oneway(location1,location2)"
   ]
  },
  {
   "cell_type": "markdown",
   "id": "04c2ab29",
   "metadata": {},
   "source": [
    "<H1>Price vs Engine Type</H1>"
   ]
  },
  {
   "cell_type": "code",
   "execution_count": 443,
   "id": "e44e291e",
   "metadata": {},
   "outputs": [
    {
     "data": {
      "text/plain": [
       "F_onewayResult(statistic=24.772969427215386, pvalue=1.3736873269914974e-06)"
      ]
     },
     "execution_count": 443,
     "metadata": {},
     "output_type": "execute_result"
    }
   ],
   "source": [
    "engine1=a.price[a.engine==\"ohc\"]\n",
    "engine2=a.price[a.engine==\"others\"]\n",
    "stats.f_oneway(engine1,engine2)"
   ]
  },
  {
   "cell_type": "markdown",
   "id": "9d9b6f84",
   "metadata": {},
   "source": [
    "<H1>Price vs Num-of-Cylinders</H1>"
   ]
  },
  {
   "cell_type": "code",
   "execution_count": 444,
   "id": "ed9c4f40",
   "metadata": {},
   "outputs": [
    {
     "data": {
      "text/plain": [
       "F_onewayResult(statistic=173.79146873895385, pvalue=4.4652216110329754e-29)"
      ]
     },
     "execution_count": 444,
     "metadata": {},
     "output_type": "execute_result"
    }
   ],
   "source": [
    "cyl1=a.price[a.cyl==\"four\"]\n",
    "cyl2=a.price[a.cyl==\"others\"]\n",
    "stats.f_oneway(cyl1,cyl2)"
   ]
  },
  {
   "cell_type": "markdown",
   "id": "4679d697",
   "metadata": {},
   "source": [
    "<H1>Price vs Fuel Systems</H1>"
   ]
  },
  {
   "cell_type": "code",
   "execution_count": 447,
   "id": "abc14783",
   "metadata": {},
   "outputs": [
    {
     "data": {
      "text/plain": [
       "F_onewayResult(statistic=nan, pvalue=nan)"
      ]
     },
     "execution_count": 447,
     "metadata": {},
     "output_type": "execute_result"
    }
   ],
   "source": [
    "sys1=a.price[a.cyl==\"mpfi\"]\n",
    "sys2=a.price[a.cyl==\"2bbl\"]\n",
    "sys3=a.price[a.cyl==\"others\"]\n",
    "sys4=a.price[a.cyl==\"idi\"]\n",
    "stats.f_oneway(sys1,sys2,sys3,sys4)"
   ]
  },
  {
   "cell_type": "markdown",
   "id": "3cd2c6d1",
   "metadata": {},
   "source": [
    "<H1>CREATING MODEL</H1>"
   ]
  },
  {
   "cell_type": "code",
   "execution_count": 205,
   "id": "c34efb13",
   "metadata": {},
   "outputs": [],
   "source": [
    "a.drop(['sym','make','fuel','asp','door','body','wheel','location','engine','cyl','sys'],axis=1,inplace=True)"
   ]
  },
  {
   "cell_type": "code",
   "execution_count": 206,
   "id": "64fbd9b9",
   "metadata": {},
   "outputs": [
    {
     "name": "stdout",
     "output_type": "stream",
     "text": [
      "0      13495.0\n",
      "1      16500.0\n",
      "2      16500.0\n",
      "3      13950.0\n",
      "4      17450.0\n",
      "        ...   \n",
      "200    16845.0\n",
      "201    19045.0\n",
      "202    21485.0\n",
      "203    22470.0\n",
      "204    22625.0\n",
      "Name: price, Length: 205, dtype: float64\n"
     ]
    }
   ],
   "source": [
    "y=a.price\n",
    "print(y)"
   ]
  },
  {
   "cell_type": "code",
   "execution_count": 207,
   "id": "eef40942",
   "metadata": {},
   "outputs": [
    {
     "name": "stdout",
     "output_type": "stream",
     "text": [
      "0      13495.0\n",
      "1      16500.0\n",
      "2      16500.0\n",
      "3      13950.0\n",
      "4      17450.0\n",
      "        ...   \n",
      "159     7788.0\n",
      "160     7738.0\n",
      "161     8358.0\n",
      "162     9258.0\n",
      "163     8058.0\n",
      "Name: price, Length: 164, dtype: float64\n"
     ]
    }
   ],
   "source": [
    "train_y=y.iloc[0:164]\n",
    "print(train_y)"
   ]
  },
  {
   "cell_type": "code",
   "execution_count": 208,
   "id": "279bf629",
   "metadata": {},
   "outputs": [
    {
     "name": "stdout",
     "output_type": "stream",
     "text": [
      "164     8238.0\n",
      "165     9298.0\n",
      "166     9538.0\n",
      "167     8449.0\n",
      "168     9639.0\n",
      "169     9989.0\n",
      "170    11199.0\n",
      "171    11549.0\n",
      "172    17669.0\n",
      "173     8948.0\n",
      "174    10698.0\n",
      "175     9988.0\n",
      "176    10898.0\n",
      "177    11248.0\n",
      "178    16558.0\n",
      "179    15998.0\n",
      "180    15690.0\n",
      "181    15750.0\n",
      "182     7775.0\n",
      "183     7975.0\n",
      "184     7995.0\n",
      "185     8195.0\n",
      "186     8495.0\n",
      "187     9495.0\n",
      "188     9995.0\n",
      "189    11595.0\n",
      "190     9980.0\n",
      "191    13295.0\n",
      "192    13845.0\n",
      "193    12290.0\n",
      "194    12940.0\n",
      "195    13415.0\n",
      "196    15985.0\n",
      "197    16515.0\n",
      "198    18420.0\n",
      "199    18950.0\n",
      "200    16845.0\n",
      "201    19045.0\n",
      "202    21485.0\n",
      "203    22470.0\n",
      "204    22625.0\n",
      "Name: price, dtype: float64\n"
     ]
    }
   ],
   "source": [
    "test_y=y.iloc[164:]\n",
    "print(test_y)"
   ]
  },
  {
   "cell_type": "code",
   "execution_count": 209,
   "id": "4c37c745",
   "metadata": {},
   "outputs": [
    {
     "name": "stdout",
     "output_type": "stream",
     "text": [
      "      loss   base    len   wid    ht  c_wt  engine_size  bore   str   com  \\\n",
      "0    122.0   88.6  168.8  64.1  48.8  2548          130  3.47  2.68   9.0   \n",
      "1    122.0   88.6  168.8  64.1  48.8  2548          130  3.47  2.68   9.0   \n",
      "2    122.0   94.5  171.2  65.5  52.4  2823          152  2.68  3.47   9.0   \n",
      "3    164.0   99.8  176.6  66.2  54.3  2337          109  3.19  3.40  10.0   \n",
      "4    164.0   99.4  176.6  66.4  54.3  2824          136  3.19  3.40   8.0   \n",
      "..     ...    ...    ...   ...   ...   ...          ...   ...   ...   ...   \n",
      "200   95.0  109.1  188.8  68.9  55.5  2952          141  3.78  3.15   9.5   \n",
      "201   95.0  109.1  188.8  68.8  55.5  3049          141  3.78  3.15   8.7   \n",
      "202   95.0  109.1  188.8  68.9  55.5  3012          173  3.58  2.87   8.8   \n",
      "203   95.0  109.1  188.8  68.9  55.5  3217          145  3.01  3.40  23.0   \n",
      "204   95.0  109.1  188.8  68.9  55.5  3062          141  3.78  3.15   9.5   \n",
      "\n",
      "        hp     rpm  c_mpg  h_mpg  \n",
      "0    111.0  5000.0     21     27  \n",
      "1    111.0  5000.0     21     27  \n",
      "2    154.0  5000.0     19     26  \n",
      "3    102.0  5500.0     24     30  \n",
      "4    115.0  5500.0     18     22  \n",
      "..     ...     ...    ...    ...  \n",
      "200  114.0  5400.0     23     28  \n",
      "201  160.0  5300.0     19     25  \n",
      "202  134.0  5500.0     18     23  \n",
      "203  106.0  4800.0     26     27  \n",
      "204  114.0  5400.0     19     25  \n",
      "\n",
      "[205 rows x 14 columns]\n"
     ]
    }
   ],
   "source": [
    "x=a.drop('price',axis=1)\n",
    "print(x)"
   ]
  },
  {
   "cell_type": "code",
   "execution_count": 210,
   "id": "3e16ba89",
   "metadata": {},
   "outputs": [
    {
     "name": "stderr",
     "output_type": "stream",
     "text": [
      "C:\\Users\\SANJAY\\anaconda3\\lib\\site-packages\\statsmodels\\tsa\\tsatools.py:142: FutureWarning: In a future version of pandas all arguments of concat except for the argument 'objs' will be keyword-only\n",
      "  x = pd.concat(x[::order], 1)\n"
     ]
    }
   ],
   "source": [
    "x=sm.add_constant(x)"
   ]
  },
  {
   "cell_type": "code",
   "execution_count": 211,
   "id": "05ca36c2",
   "metadata": {},
   "outputs": [
    {
     "name": "stdout",
     "output_type": "stream",
     "text": [
      "     const   loss  base    len   wid    ht  c_wt  engine_size  bore   str  \\\n",
      "0      1.0  122.0  88.6  168.8  64.1  48.8  2548          130  3.47  2.68   \n",
      "1      1.0  122.0  88.6  168.8  64.1  48.8  2548          130  3.47  2.68   \n",
      "2      1.0  122.0  94.5  171.2  65.5  52.4  2823          152  2.68  3.47   \n",
      "3      1.0  164.0  99.8  176.6  66.2  54.3  2337          109  3.19  3.40   \n",
      "4      1.0  164.0  99.4  176.6  66.4  54.3  2824          136  3.19  3.40   \n",
      "..     ...    ...   ...    ...   ...   ...   ...          ...   ...   ...   \n",
      "159    1.0   91.0  95.7  166.3  64.4  52.8  2275          110  3.27  3.35   \n",
      "160    1.0   91.0  95.7  166.3  64.4  53.0  2094           98  3.19  3.03   \n",
      "161    1.0   91.0  95.7  166.3  64.4  52.8  2122           98  3.19  3.03   \n",
      "162    1.0   91.0  95.7  166.3  64.4  52.8  2140           98  3.19  3.03   \n",
      "163    1.0  168.0  94.5  168.7  64.0  52.6  2169           98  3.19  3.03   \n",
      "\n",
      "      com     hp     rpm  c_mpg  h_mpg  \n",
      "0     9.0  111.0  5000.0     21     27  \n",
      "1     9.0  111.0  5000.0     21     27  \n",
      "2     9.0  154.0  5000.0     19     26  \n",
      "3    10.0  102.0  5500.0     24     30  \n",
      "4     8.0  115.0  5500.0     18     22  \n",
      "..    ...    ...     ...    ...    ...  \n",
      "159  22.5   56.0  4500.0     38     47  \n",
      "160   9.0   70.0  4800.0     38     47  \n",
      "161   9.0   70.0  4800.0     28     34  \n",
      "162   9.0   70.0  4800.0     28     34  \n",
      "163   9.0   70.0  4800.0     29     34  \n",
      "\n",
      "[164 rows x 15 columns]\n"
     ]
    }
   ],
   "source": [
    "train_x=x.iloc[0:164]\n",
    "print(train_x)"
   ]
  },
  {
   "cell_type": "code",
   "execution_count": 212,
   "id": "5aee0ce1",
   "metadata": {},
   "outputs": [
    {
     "name": "stdout",
     "output_type": "stream",
     "text": [
      "     const   loss   base    len   wid    ht  c_wt  engine_size  bore   str  \\\n",
      "164    1.0  168.0   94.5  168.7  64.0  52.6  2204           98  3.19  3.03   \n",
      "165    1.0  168.0   94.5  168.7  64.0  52.6  2265           98  3.24  3.08   \n",
      "166    1.0  168.0   94.5  168.7  64.0  52.6  2300           98  3.24  3.08   \n",
      "167    1.0  134.0   98.4  176.2  65.6  52.0  2540          146  3.62  3.50   \n",
      "168    1.0  134.0   98.4  176.2  65.6  52.0  2536          146  3.62  3.50   \n",
      "169    1.0  134.0   98.4  176.2  65.6  52.0  2551          146  3.62  3.50   \n",
      "170    1.0  134.0   98.4  176.2  65.6  52.0  2679          146  3.62  3.50   \n",
      "171    1.0  134.0   98.4  176.2  65.6  52.0  2714          146  3.62  3.50   \n",
      "172    1.0  134.0   98.4  176.2  65.6  53.0  2975          146  3.62  3.50   \n",
      "173    1.0   65.0  102.4  175.6  66.5  54.9  2326          122  3.31  3.54   \n",
      "174    1.0   65.0  102.4  175.6  66.5  54.9  2480          110  3.27  3.35   \n",
      "175    1.0   65.0  102.4  175.6  66.5  53.9  2414          122  3.31  3.54   \n",
      "176    1.0   65.0  102.4  175.6  66.5  54.9  2414          122  3.31  3.54   \n",
      "177    1.0   65.0  102.4  175.6  66.5  53.9  2458          122  3.31  3.54   \n",
      "178    1.0  197.0  102.9  183.5  67.7  52.0  2976          171  3.27  3.35   \n",
      "179    1.0  197.0  102.9  183.5  67.7  52.0  3016          171  3.27  3.35   \n",
      "180    1.0   90.0  104.5  187.8  66.5  54.1  3131          171  3.27  3.35   \n",
      "181    1.0  122.0  104.5  187.8  66.5  54.1  3151          161  3.27  3.35   \n",
      "182    1.0  122.0   97.3  171.7  65.5  55.7  2261           97  3.01  3.40   \n",
      "183    1.0  122.0   97.3  171.7  65.5  55.7  2209          109  3.19  3.40   \n",
      "184    1.0   94.0   97.3  171.7  65.5  55.7  2264           97  3.01  3.40   \n",
      "185    1.0   94.0   97.3  171.7  65.5  55.7  2212          109  3.19  3.40   \n",
      "186    1.0   94.0   97.3  171.7  65.5  55.7  2275          109  3.19  3.40   \n",
      "187    1.0   94.0   97.3  171.7  65.5  55.7  2319           97  3.01  3.40   \n",
      "188    1.0   94.0   97.3  171.7  65.5  55.7  2300          109  3.19  3.40   \n",
      "189    1.0  122.0   94.5  159.3  64.2  55.6  2254          109  3.19  3.40   \n",
      "190    1.0  256.0   94.5  165.7  64.0  51.4  2221          109  3.19  3.40   \n",
      "191    1.0  122.0  100.4  180.2  66.9  55.1  2661          136  3.19  3.40   \n",
      "192    1.0  122.0  100.4  180.2  66.9  55.1  2579           97  3.01  3.40   \n",
      "193    1.0  122.0  100.4  183.1  66.9  55.1  2563          109  3.19  3.40   \n",
      "194    1.0  103.0  104.3  188.8  67.2  56.2  2912          141  3.78  3.15   \n",
      "195    1.0   74.0  104.3  188.8  67.2  57.5  3034          141  3.78  3.15   \n",
      "196    1.0  103.0  104.3  188.8  67.2  56.2  2935          141  3.78  3.15   \n",
      "197    1.0   74.0  104.3  188.8  67.2  57.5  3042          141  3.78  3.15   \n",
      "198    1.0  103.0  104.3  188.8  67.2  56.2  3045          130  3.62  3.15   \n",
      "199    1.0   74.0  104.3  188.8  67.2  57.5  3157          130  3.62  3.15   \n",
      "200    1.0   95.0  109.1  188.8  68.9  55.5  2952          141  3.78  3.15   \n",
      "201    1.0   95.0  109.1  188.8  68.8  55.5  3049          141  3.78  3.15   \n",
      "202    1.0   95.0  109.1  188.8  68.9  55.5  3012          173  3.58  2.87   \n",
      "203    1.0   95.0  109.1  188.8  68.9  55.5  3217          145  3.01  3.40   \n",
      "204    1.0   95.0  109.1  188.8  68.9  55.5  3062          141  3.78  3.15   \n",
      "\n",
      "      com     hp     rpm  c_mpg  h_mpg  \n",
      "164   9.0   70.0  4800.0     29     34  \n",
      "165   9.4  112.0  6600.0     26     29  \n",
      "166   9.4  112.0  6600.0     26     29  \n",
      "167   9.3  116.0  4800.0     24     30  \n",
      "168   9.3  116.0  4800.0     24     30  \n",
      "169   9.3  116.0  4800.0     24     30  \n",
      "170   9.3  116.0  4800.0     24     30  \n",
      "171   9.3  116.0  4800.0     24     30  \n",
      "172   9.3  116.0  4800.0     24     30  \n",
      "173   8.7   92.0  4200.0     29     34  \n",
      "174  22.5   73.0  4500.0     30     33  \n",
      "175   8.7   92.0  4200.0     27     32  \n",
      "176   8.7   92.0  4200.0     27     32  \n",
      "177   8.7   92.0  4200.0     27     32  \n",
      "178   9.3  161.0  5200.0     20     24  \n",
      "179   9.3  161.0  5200.0     19     24  \n",
      "180   9.2  156.0  5200.0     20     24  \n",
      "181   9.2  156.0  5200.0     19     24  \n",
      "182  23.0   52.0  4800.0     37     46  \n",
      "183   9.0   85.0  5250.0     27     34  \n",
      "184  23.0   52.0  4800.0     37     46  \n",
      "185   9.0   85.0  5250.0     27     34  \n",
      "186   9.0   85.0  5250.0     27     34  \n",
      "187  23.0   68.0  4500.0     37     42  \n",
      "188  10.0  100.0  5500.0     26     32  \n",
      "189   8.5   90.0  5500.0     24     29  \n",
      "190   8.5   90.0  5500.0     24     29  \n",
      "191   8.5  110.0  5500.0     19     24  \n",
      "192  23.0   68.0  4500.0     33     38  \n",
      "193   9.0   88.0  5500.0     25     31  \n",
      "194   9.5  114.0  5400.0     23     28  \n",
      "195   9.5  114.0  5400.0     23     28  \n",
      "196   9.5  114.0  5400.0     24     28  \n",
      "197   9.5  114.0  5400.0     24     28  \n",
      "198   7.5  162.0  5100.0     17     22  \n",
      "199   7.5  162.0  5100.0     17     22  \n",
      "200   9.5  114.0  5400.0     23     28  \n",
      "201   8.7  160.0  5300.0     19     25  \n",
      "202   8.8  134.0  5500.0     18     23  \n",
      "203  23.0  106.0  4800.0     26     27  \n",
      "204   9.5  114.0  5400.0     19     25  \n"
     ]
    }
   ],
   "source": [
    "test_x=x.iloc[164:]\n",
    "print(test_x)"
   ]
  },
  {
   "cell_type": "code",
   "execution_count": 213,
   "id": "712bd1ae",
   "metadata": {},
   "outputs": [],
   "source": [
    "model=sm.OLS(train_y,train_x).fit()"
   ]
  },
  {
   "cell_type": "code",
   "execution_count": 214,
   "id": "a8fdb245",
   "metadata": {},
   "outputs": [
    {
     "data": {
      "text/html": [
       "<table class=\"simpletable\">\n",
       "<caption>OLS Regression Results</caption>\n",
       "<tr>\n",
       "  <th>Dep. Variable:</th>          <td>price</td>      <th>  R-squared:         </th> <td>   0.831</td>\n",
       "</tr>\n",
       "<tr>\n",
       "  <th>Model:</th>                   <td>OLS</td>       <th>  Adj. R-squared:    </th> <td>   0.815</td>\n",
       "</tr>\n",
       "<tr>\n",
       "  <th>Method:</th>             <td>Least Squares</td>  <th>  F-statistic:       </th> <td>   52.35</td>\n",
       "</tr>\n",
       "<tr>\n",
       "  <th>Date:</th>             <td>Sat, 02 Apr 2022</td> <th>  Prob (F-statistic):</th> <td>3.08e-50</td>\n",
       "</tr>\n",
       "<tr>\n",
       "  <th>Time:</th>                 <td>19:15:53</td>     <th>  Log-Likelihood:    </th> <td> -1571.0</td>\n",
       "</tr>\n",
       "<tr>\n",
       "  <th>No. Observations:</th>      <td>   164</td>      <th>  AIC:               </th> <td>   3172.</td>\n",
       "</tr>\n",
       "<tr>\n",
       "  <th>Df Residuals:</th>          <td>   149</td>      <th>  BIC:               </th> <td>   3219.</td>\n",
       "</tr>\n",
       "<tr>\n",
       "  <th>Df Model:</th>              <td>    14</td>      <th>                     </th>     <td> </td>   \n",
       "</tr>\n",
       "<tr>\n",
       "  <th>Covariance Type:</th>      <td>nonrobust</td>    <th>                     </th>     <td> </td>   \n",
       "</tr>\n",
       "</table>\n",
       "<table class=\"simpletable\">\n",
       "<tr>\n",
       "       <td></td>          <th>coef</th>     <th>std err</th>      <th>t</th>      <th>P>|t|</th>  <th>[0.025</th>    <th>0.975]</th>  \n",
       "</tr>\n",
       "<tr>\n",
       "  <th>const</th>       <td>-2.897e+04</td> <td> 1.97e+04</td> <td>   -1.469</td> <td> 0.144</td> <td>-6.79e+04</td> <td> 9986.655</td>\n",
       "</tr>\n",
       "<tr>\n",
       "  <th>loss</th>        <td>   12.7899</td> <td>   11.631</td> <td>    1.100</td> <td> 0.273</td> <td>  -10.192</td> <td>   35.772</td>\n",
       "</tr>\n",
       "<tr>\n",
       "  <th>base</th>        <td>  102.7027</td> <td>  126.877</td> <td>    0.809</td> <td> 0.420</td> <td> -148.007</td> <td>  353.413</td>\n",
       "</tr>\n",
       "<tr>\n",
       "  <th>len</th>         <td>   10.9567</td> <td>   68.659</td> <td>    0.160</td> <td> 0.873</td> <td> -124.715</td> <td>  146.629</td>\n",
       "</tr>\n",
       "<tr>\n",
       "  <th>wid</th>         <td> -128.2053</td> <td>  304.887</td> <td>   -0.421</td> <td> 0.675</td> <td> -730.666</td> <td>  474.256</td>\n",
       "</tr>\n",
       "<tr>\n",
       "  <th>ht</th>          <td>  114.3741</td> <td>  180.783</td> <td>    0.633</td> <td> 0.528</td> <td> -242.855</td> <td>  471.603</td>\n",
       "</tr>\n",
       "<tr>\n",
       "  <th>c_wt</th>        <td>    1.2682</td> <td>    2.227</td> <td>    0.569</td> <td> 0.570</td> <td>   -3.133</td> <td>    5.670</td>\n",
       "</tr>\n",
       "<tr>\n",
       "  <th>engine_size</th> <td>  149.1595</td> <td>   17.850</td> <td>    8.356</td> <td> 0.000</td> <td>  113.887</td> <td>  184.432</td>\n",
       "</tr>\n",
       "<tr>\n",
       "  <th>bore</th>        <td> -140.5373</td> <td> 1678.295</td> <td>   -0.084</td> <td> 0.933</td> <td>-3456.871</td> <td> 3175.797</td>\n",
       "</tr>\n",
       "<tr>\n",
       "  <th>str</th>         <td>-2984.1596</td> <td>  949.403</td> <td>   -3.143</td> <td> 0.002</td> <td>-4860.193</td> <td>-1108.126</td>\n",
       "</tr>\n",
       "<tr>\n",
       "  <th>com</th>         <td>  311.3376</td> <td>  115.688</td> <td>    2.691</td> <td> 0.008</td> <td>   82.736</td> <td>  539.939</td>\n",
       "</tr>\n",
       "<tr>\n",
       "  <th>hp</th>          <td>   -3.8834</td> <td>   22.831</td> <td>   -0.170</td> <td> 0.865</td> <td>  -48.997</td> <td>   41.230</td>\n",
       "</tr>\n",
       "<tr>\n",
       "  <th>rpm</th>         <td>    3.9520</td> <td>    1.033</td> <td>    3.825</td> <td> 0.000</td> <td>    1.911</td> <td>    5.994</td>\n",
       "</tr>\n",
       "<tr>\n",
       "  <th>c_mpg</th>       <td>  -31.1696</td> <td>  235.918</td> <td>   -0.132</td> <td> 0.895</td> <td> -497.347</td> <td>  435.008</td>\n",
       "</tr>\n",
       "<tr>\n",
       "  <th>h_mpg</th>       <td> -100.8571</td> <td>  211.693</td> <td>   -0.476</td> <td> 0.634</td> <td> -519.166</td> <td>  317.452</td>\n",
       "</tr>\n",
       "</table>\n",
       "<table class=\"simpletable\">\n",
       "<tr>\n",
       "  <th>Omnibus:</th>       <td>16.867</td> <th>  Durbin-Watson:     </th> <td>   1.146</td>\n",
       "</tr>\n",
       "<tr>\n",
       "  <th>Prob(Omnibus):</th> <td> 0.000</td> <th>  Jarque-Bera (JB):  </th> <td>  63.128</td>\n",
       "</tr>\n",
       "<tr>\n",
       "  <th>Skew:</th>          <td> 0.007</td> <th>  Prob(JB):          </th> <td>1.96e-14</td>\n",
       "</tr>\n",
       "<tr>\n",
       "  <th>Kurtosis:</th>      <td> 6.039</td> <th>  Cond. No.          </th> <td>3.95e+05</td>\n",
       "</tr>\n",
       "</table><br/><br/>Notes:<br/>[1] Standard Errors assume that the covariance matrix of the errors is correctly specified.<br/>[2] The condition number is large, 3.95e+05. This might indicate that there are<br/>strong multicollinearity or other numerical problems."
      ],
      "text/plain": [
       "<class 'statsmodels.iolib.summary.Summary'>\n",
       "\"\"\"\n",
       "                            OLS Regression Results                            \n",
       "==============================================================================\n",
       "Dep. Variable:                  price   R-squared:                       0.831\n",
       "Model:                            OLS   Adj. R-squared:                  0.815\n",
       "Method:                 Least Squares   F-statistic:                     52.35\n",
       "Date:                Sat, 02 Apr 2022   Prob (F-statistic):           3.08e-50\n",
       "Time:                        19:15:53   Log-Likelihood:                -1571.0\n",
       "No. Observations:                 164   AIC:                             3172.\n",
       "Df Residuals:                     149   BIC:                             3219.\n",
       "Df Model:                          14                                         \n",
       "Covariance Type:            nonrobust                                         \n",
       "===============================================================================\n",
       "                  coef    std err          t      P>|t|      [0.025      0.975]\n",
       "-------------------------------------------------------------------------------\n",
       "const       -2.897e+04   1.97e+04     -1.469      0.144   -6.79e+04    9986.655\n",
       "loss           12.7899     11.631      1.100      0.273     -10.192      35.772\n",
       "base          102.7027    126.877      0.809      0.420    -148.007     353.413\n",
       "len            10.9567     68.659      0.160      0.873    -124.715     146.629\n",
       "wid          -128.2053    304.887     -0.421      0.675    -730.666     474.256\n",
       "ht            114.3741    180.783      0.633      0.528    -242.855     471.603\n",
       "c_wt            1.2682      2.227      0.569      0.570      -3.133       5.670\n",
       "engine_size   149.1595     17.850      8.356      0.000     113.887     184.432\n",
       "bore         -140.5373   1678.295     -0.084      0.933   -3456.871    3175.797\n",
       "str         -2984.1596    949.403     -3.143      0.002   -4860.193   -1108.126\n",
       "com           311.3376    115.688      2.691      0.008      82.736     539.939\n",
       "hp             -3.8834     22.831     -0.170      0.865     -48.997      41.230\n",
       "rpm             3.9520      1.033      3.825      0.000       1.911       5.994\n",
       "c_mpg         -31.1696    235.918     -0.132      0.895    -497.347     435.008\n",
       "h_mpg        -100.8571    211.693     -0.476      0.634    -519.166     317.452\n",
       "==============================================================================\n",
       "Omnibus:                       16.867   Durbin-Watson:                   1.146\n",
       "Prob(Omnibus):                  0.000   Jarque-Bera (JB):               63.128\n",
       "Skew:                           0.007   Prob(JB):                     1.96e-14\n",
       "Kurtosis:                       6.039   Cond. No.                     3.95e+05\n",
       "==============================================================================\n",
       "\n",
       "Notes:\n",
       "[1] Standard Errors assume that the covariance matrix of the errors is correctly specified.\n",
       "[2] The condition number is large, 3.95e+05. This might indicate that there are\n",
       "strong multicollinearity or other numerical problems.\n",
       "\"\"\""
      ]
     },
     "execution_count": 214,
     "metadata": {},
     "output_type": "execute_result"
    }
   ],
   "source": [
    "model.summary()"
   ]
  },
  {
   "cell_type": "code",
   "execution_count": 215,
   "id": "489eebf6",
   "metadata": {},
   "outputs": [
    {
     "data": {
      "text/plain": [
       "const         -28971.194401\n",
       "loss              12.789934\n",
       "base             102.702747\n",
       "len               10.956701\n",
       "wid             -128.205291\n",
       "ht               114.374148\n",
       "c_wt               1.268229\n",
       "engine_size      149.159539\n",
       "bore            -140.537341\n",
       "str            -2984.159618\n",
       "com              311.337583\n",
       "hp                -3.883446\n",
       "rpm                3.952015\n",
       "c_mpg            -31.169633\n",
       "h_mpg           -100.857051\n",
       "dtype: float64"
      ]
     },
     "execution_count": 215,
     "metadata": {},
     "output_type": "execute_result"
    }
   ],
   "source": [
    "model.params"
   ]
  },
  {
   "cell_type": "code",
   "execution_count": null,
   "id": "d699c1cf",
   "metadata": {},
   "outputs": [],
   "source": []
  }
 ],
 "metadata": {
  "kernelspec": {
   "display_name": "Python 3 (ipykernel)",
   "language": "python",
   "name": "python3"
  },
  "language_info": {
   "codemirror_mode": {
    "name": "ipython",
    "version": 3
   },
   "file_extension": ".py",
   "mimetype": "text/x-python",
   "name": "python",
   "nbconvert_exporter": "python",
   "pygments_lexer": "ipython3",
   "version": "3.9.7"
  }
 },
 "nbformat": 4,
 "nbformat_minor": 5
}
